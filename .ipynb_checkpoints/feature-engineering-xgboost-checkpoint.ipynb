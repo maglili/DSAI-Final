{
 "cells": [
  {
   "cell_type": "markdown",
   "metadata": {
    "_uuid": "55f0ed2ac468f0eb59c24726ca0c9bdc8884c345"
   },
   "source": [
    "\n",
    "This notebook is simpified version of the final project in the [How to Win a Data Science Competition: Learn from Top Kagglers](https://www.coursera.org/learn/competitive-data-science) course. Simplified means without ensembling.\n",
    "\n",
    "#### Pipline\n",
    "* load data\n",
    "* heal data and remove outliers\n",
    "* work with shops/items/cats objects and features\n",
    "* create matrix as product of item/shop pairs within each month in the train set\n",
    "* get monthly sales for each item/shop pair in the train set and merge it to the matrix\n",
    "* clip item_cnt_month by (0,20)\n",
    "* append test to the matrix, fill 34 month nans with zeros\n",
    "* merge shops/items/cats to the matrix\n",
    "* add target lag features\n",
    "* add mean encoded features\n",
    "* add price trend features\n",
    "* add month\n",
    "* add days\n",
    "* add months since last sale/months since first sale features\n",
    "* cut first year and drop columns which can not be calculated for the test set\n",
    "* select best features\n",
    "* set validation strategy 34 test, 33 validation, less than 33 train\n",
    "* fit the model, predict and clip targets for the test set"
   ]
  },
  {
   "cell_type": "markdown",
   "metadata": {
    "_uuid": "f03379ee467570732ebb2b3d20062fea0584d57d",
    "heading_collapsed": true
   },
   "source": [
    "# Part 1, perfect features"
   ]
  },
  {
   "cell_type": "code",
   "execution_count": 1,
   "metadata": {
    "_cell_guid": "b1076dfc-b9ad-4769-8c92-a6c4dae69d19",
    "_uuid": "8f2839f25d086af736a60e9eeb907d3b93b6e0e5",
    "execution": {
     "iopub.execute_input": "2021-06-03T08:03:34.886594Z",
     "iopub.status.busy": "2021-06-03T08:03:34.886113Z",
     "iopub.status.idle": "2021-06-03T08:03:34.916346Z",
     "shell.execute_reply": "2021-06-03T08:03:34.91568Z",
     "shell.execute_reply.started": "2021-06-03T08:03:34.886551Z"
    },
    "hidden": true
   },
   "outputs": [
    {
     "name": "stderr",
     "output_type": "stream",
     "text": [
      "/home/lichang/.virtualenvs/py38/lib/python3.8/site-packages/pandas/compat/__init__.py:97: UserWarning: Could not import the lzma module. Your installed Python is incomplete. Attempting to use lzma compression will result in a RuntimeError.\n",
      "  warnings.warn(msg)\n"
     ]
    },
    {
     "data": {
      "text/plain": [
       "sys.version_info(major=3, minor=8, micro=0, releaselevel='final', serial=0)"
      ]
     },
     "execution_count": 1,
     "metadata": {},
     "output_type": "execute_result"
    }
   ],
   "source": [
    "import numpy as np\n",
    "import pandas as pd\n",
    "\n",
    "pd.set_option(\"display.max_rows\", 500)\n",
    "pd.set_option(\"display.max_columns\", 100)\n",
    "\n",
    "from itertools import product\n",
    "from sklearn.preprocessing import LabelEncoder\n",
    "\n",
    "import seaborn as sns\n",
    "import matplotlib.pyplot as plt\n",
    "\n",
    "%matplotlib inline\n",
    "\n",
    "from xgboost import XGBRegressor\n",
    "from xgboost import plot_importance\n",
    "\n",
    "\n",
    "def plot_features(booster, figsize):\n",
    "    fig, ax = plt.subplots(1, 1, figsize=figsize)\n",
    "    return plot_importance(booster=booster, ax=ax)\n",
    "\n",
    "\n",
    "import time\n",
    "import sys\n",
    "import gc\n",
    "import pickle\n",
    "import random\n",
    "\n",
    "random.seed(0)\n",
    "np.random.seed(0)\n",
    "\n",
    "sys.version_info"
   ]
  },
  {
   "cell_type": "code",
   "execution_count": 2,
   "metadata": {
    "_uuid": "f0a1c729d4fb3d6609f9dfb163ebe92fa9dc654c",
    "execution": {
     "iopub.execute_input": "2021-06-03T08:03:35.087415Z",
     "iopub.status.busy": "2021-06-03T08:03:35.086959Z",
     "iopub.status.idle": "2021-06-03T08:03:37.590579Z",
     "shell.execute_reply": "2021-06-03T08:03:37.589842Z",
     "shell.execute_reply.started": "2021-06-03T08:03:35.087373Z"
    },
    "hidden": true
   },
   "outputs": [],
   "source": [
    "items = pd.read_csv(\"./data/items.csv\")\n",
    "shops = pd.read_csv(\"./data/shops.csv\")\n",
    "cats = pd.read_csv(\"./data/item_categories.csv\")\n",
    "train = pd.read_csv(\"./data/sales_train.csv\")\n",
    "# set index to ID to avoid droping it later\n",
    "test = pd.read_csv(\"./data/test.csv\").set_index(\"ID\")"
   ]
  },
  {
   "cell_type": "markdown",
   "metadata": {
    "_uuid": "ed7a190645750a818e29a6291ba2553a91764c7c",
    "hidden": true
   },
   "source": [
    "## Outliers"
   ]
  },
  {
   "cell_type": "markdown",
   "metadata": {
    "_uuid": "425d8f2dc08378977b393bf80c5fdcf0fba2c992",
    "hidden": true
   },
   "source": [
    "There are items with strange prices and sales. After detailed exploration I decided to remove items with price > 100000 and sales > 1001 (1000 is ok)."
   ]
  },
  {
   "cell_type": "code",
   "execution_count": 5,
   "metadata": {
    "_uuid": "5a864412fafc3129a3e9bd5bb1f18a7cf0c62935",
    "execution": {
     "iopub.execute_input": "2021-06-03T08:03:37.591791Z",
     "iopub.status.busy": "2021-06-03T08:03:37.591444Z",
     "iopub.status.idle": "2021-06-03T08:03:40.42036Z",
     "shell.execute_reply": "2021-06-03T08:03:40.419679Z",
     "shell.execute_reply.started": "2021-06-03T08:03:37.591752Z"
    },
    "hidden": true
   },
   "outputs": [
    {
     "data": {
      "image/png": "[encoded data removed]",
      "text/plain": [
       "<Figure size 720x288 with 1 Axes>"
      ]
     },
     "metadata": {
      "needs_background": "light"
     },
     "output_type": "display_data"
    },
    {
     "data": {
      "image/png": "[encoded data removed]",
      "text/plain": [
       "<Figure size 720x288 with 1 Axes>"
      ]
     },
     "metadata": {
      "needs_background": "light"
     },
     "output_type": "display_data"
    }
   ],
   "source": [
    "plt.figure(figsize=(10, 4))\n",
    "plt.xlim(-100, 3000)\n",
    "sns.boxplot(x=train.item_cnt_day)\n",
    "\n",
    "plt.figure(figsize=(10, 4))\n",
    "plt.xlim(train.item_price.min(), train.item_price.max() * 1.1)\n",
    "sns.boxplot(x=train.item_price)\n",
    "plt.show()"
   ]
  },
  {
   "cell_type": "code",
   "execution_count": 6,
   "metadata": {
    "_uuid": "7e621535d112603c60aeb2c2f83dbbf96d36b732",
    "execution": {
     "iopub.execute_input": "2021-06-03T08:03:40.421701Z",
     "iopub.status.busy": "2021-06-03T08:03:40.421365Z",
     "iopub.status.idle": "2021-06-03T08:03:40.732661Z",
     "shell.execute_reply": "2021-06-03T08:03:40.731875Z",
     "shell.execute_reply.started": "2021-06-03T08:03:40.421663Z"
    },
    "hidden": true
   },
   "outputs": [],
   "source": [
    "train = train[train.item_price < 100000]\n",
    "train = train[train.item_cnt_day < 1001]"
   ]
  },
  {
   "cell_type": "markdown",
   "metadata": {
    "_uuid": "d2f99368478e3063b1c379537944e954d7186928",
    "hidden": true
   },
   "source": [
    "There is one item with price below zero. Fill it with median."
   ]
  },
  {
   "cell_type": "code",
   "execution_count": 7,
   "metadata": {
    "execution": {
     "iopub.execute_input": "2021-06-03T08:03:40.733979Z",
     "iopub.status.busy": "2021-06-03T08:03:40.733622Z",
     "iopub.status.idle": "2021-06-03T08:03:40.749929Z",
     "shell.execute_reply": "2021-06-03T08:03:40.749237Z",
     "shell.execute_reply.started": "2021-06-03T08:03:40.733932Z"
    },
    "hidden": true
   },
   "outputs": [
    {
     "data": {
      "text/html": [
       "<div>\n",
       "<style scoped>\n",
       "    .dataframe tbody tr th:only-of-type {\n",
       "        vertical-align: middle;\n",
       "    }\n",
       "\n",
       "    .dataframe tbody tr th {\n",
       "        vertical-align: top;\n",
       "    }\n",
       "\n",
       "    .dataframe thead th {\n",
       "        text-align: right;\n",
       "    }\n",
       "</style>\n",
       "<table border=\"1\" class=\"dataframe\">\n",
       "  <thead>\n",
       "    <tr style=\"text-align: right;\">\n",
       "      <th></th>\n",
       "      <th>date</th>\n",
       "      <th>date_block_num</th>\n",
       "      <th>shop_id</th>\n",
       "      <th>item_id</th>\n",
       "      <th>item_price</th>\n",
       "      <th>item_cnt_day</th>\n",
       "    </tr>\n",
       "  </thead>\n",
       "  <tbody>\n",
       "    <tr>\n",
       "      <th>484683</th>\n",
       "      <td>15.05.2013</td>\n",
       "      <td>4</td>\n",
       "      <td>32</td>\n",
       "      <td>2973</td>\n",
       "      <td>-1.0</td>\n",
       "      <td>1.0</td>\n",
       "    </tr>\n",
       "  </tbody>\n",
       "</table>\n",
       "</div>"
      ],
      "text/plain": [
       "              date  date_block_num  shop_id  item_id  item_price  item_cnt_day\n",
       "484683  15.05.2013               4       32     2973        -1.0           1.0"
      ]
     },
     "execution_count": 7,
     "metadata": {},
     "output_type": "execute_result"
    }
   ],
   "source": [
    "train[train[\"item_price\"] <= 0]"
   ]
  },
  {
   "cell_type": "code",
   "execution_count": 8,
   "metadata": {
    "_uuid": "0fc6b90b22fe232f4240ac8f965cc52b3db5526a",
    "execution": {
     "iopub.execute_input": "2021-06-03T08:03:40.751649Z",
     "iopub.status.busy": "2021-06-03T08:03:40.751292Z",
     "iopub.status.idle": "2021-06-03T08:03:40.958145Z",
     "shell.execute_reply": "2021-06-03T08:03:40.957256Z",
     "shell.execute_reply.started": "2021-06-03T08:03:40.751572Z"
    },
    "hidden": true
   },
   "outputs": [],
   "source": [
    "median = train[\n",
    "    (train.shop_id == 32)\n",
    "    & (train.item_id == 2973)\n",
    "    & (train.date_block_num == 4)\n",
    "    & (train.item_price > 0)\n",
    "].item_price.median()\n",
    "train.loc[train.item_price < 0, \"item_price\"] = median"
   ]
  },
  {
   "cell_type": "markdown",
   "metadata": {
    "_uuid": "7da194c285d696b5c6978148bf0143b9b2a7b0c5",
    "hidden": true
   },
   "source": [
    "Several shops are duplicates of each other (according to its name). Fix train and test set."
   ]
  },
  {
   "cell_type": "code",
   "execution_count": 9,
   "metadata": {
    "_uuid": "00fe91e9c482ea413abd774ff903fe3d152785dd",
    "execution": {
     "iopub.execute_input": "2021-06-03T08:03:40.959774Z",
     "iopub.status.busy": "2021-06-03T08:03:40.959497Z",
     "iopub.status.idle": "2021-06-03T08:03:41.425595Z",
     "shell.execute_reply": "2021-06-03T08:03:41.424727Z",
     "shell.execute_reply.started": "2021-06-03T08:03:40.959723Z"
    },
    "hidden": true
   },
   "outputs": [],
   "source": [
    "# Якутск Орджоникидзе, 56\n",
    "train.loc[train.shop_id == 0, \"shop_id\"] = 57\n",
    "test.loc[test.shop_id == 0, \"shop_id\"] = 57\n",
    "# Якутск ТЦ \"Центральный\"\n",
    "train.loc[train.shop_id == 1, \"shop_id\"] = 58\n",
    "test.loc[test.shop_id == 1, \"shop_id\"] = 58\n",
    "# Жуковский ул. Чкалова 39м²\n",
    "train.loc[train.shop_id == 10, \"shop_id\"] = 11\n",
    "test.loc[test.shop_id == 10, \"shop_id\"] = 11"
   ]
  },
  {
   "cell_type": "markdown",
   "metadata": {
    "_uuid": "a30f0521464e1fa20444e66d24bbdcb76b93f6de",
    "hidden": true
   },
   "source": [
    "## Shops/Cats/Items preprocessing\n",
    "Observations:\n",
    "* Each shop_name starts with the city name.\n",
    "* Each category contains type and subtype in its name."
   ]
  },
  {
   "cell_type": "code",
   "execution_count": 11,
   "metadata": {
    "_uuid": "12fae4c8d0c8f3e817307d1e0ffc6831e9a8d696",
    "execution": {
     "iopub.execute_input": "2021-06-03T08:03:41.475437Z",
     "iopub.status.busy": "2021-06-03T08:03:41.475193Z",
     "iopub.status.idle": "2021-06-03T08:03:41.522198Z",
     "shell.execute_reply": "2021-06-03T08:03:41.521126Z",
     "shell.execute_reply.started": "2021-06-03T08:03:41.475395Z"
    },
    "hidden": true
   },
   "outputs": [],
   "source": [
    "shops.loc[\n",
    "    shops.shop_name == 'Сергиев Посад ТЦ \"7Я\"', \"shop_name\"\n",
    "] = 'СергиевПосад ТЦ \"7Я\"'\n",
    "shops[\"city\"] = shops[\"shop_name\"].str.split(\" \").map(lambda x: x[0])\n",
    "shops.loc[shops.city == \"!Якутск\", \"city\"] = \"Якутск\"\n",
    "shops[\"city_code\"] = LabelEncoder().fit_transform(shops[\"city\"])\n",
    "shops = shops[[\"shop_id\", \"city_code\"]]\n",
    "\n",
    "cats[\"split\"] = cats[\"item_category_name\"].str.split(\"-\")\n",
    "cats[\"type\"] = cats[\"split\"].map(lambda x: x[0].strip())\n",
    "cats[\"type_code\"] = LabelEncoder().fit_transform(cats[\"type\"])\n",
    "# if subtype is nan then type\n",
    "cats[\"subtype\"] = cats[\"split\"].map(\n",
    "    lambda x: x[1].strip() if len(x) > 1 else x[0].strip()\n",
    ")\n",
    "cats[\"subtype_code\"] = LabelEncoder().fit_transform(cats[\"subtype\"])\n",
    "cats = cats[[\"item_category_id\", \"type_code\", \"subtype_code\"]]\n",
    "\n",
    "items.drop([\"item_name\"], axis=1, inplace=True)"
   ]
  },
  {
   "cell_type": "markdown",
   "metadata": {
    "_uuid": "62c5f83fa222595da99294f465ab28e80ce415e9",
    "hidden": true
   },
   "source": [
    "## Monthly sales\n",
    "Test set is a product of some shops and some items within 34 month. There are 5100 items * 42 shops = 214200 pairs. 363 items are new compared to the train. Hence, for the most of the items in the test set target value should be zero. \n",
    "In the other hand train set contains only pairs which were sold or returned in the past. Tha main idea is to calculate monthly sales and <b>extend it with zero sales</b> for each unique pair within the month. This way train data will be similar to test data."
   ]
  },
  {
   "cell_type": "code",
   "execution_count": 15,
   "metadata": {
    "execution": {
     "iopub.execute_input": "2021-06-03T08:03:49.655927Z",
     "iopub.status.busy": "2021-06-03T08:03:49.655647Z",
     "iopub.status.idle": "2021-06-03T08:03:49.66363Z",
     "shell.execute_reply": "2021-06-03T08:03:49.662423Z",
     "shell.execute_reply.started": "2021-06-03T08:03:49.655891Z"
    },
    "hidden": true
   },
   "outputs": [
    {
     "data": {
      "text/plain": [
       "42"
      ]
     },
     "execution_count": 15,
     "metadata": {},
     "output_type": "execute_result"
    }
   ],
   "source": [
    "len(test.shop_id.unique())"
   ]
  },
  {
   "cell_type": "code",
   "execution_count": 16,
   "metadata": {
    "execution": {
     "iopub.execute_input": "2021-06-03T08:03:50.176539Z",
     "iopub.status.busy": "2021-06-03T08:03:50.175799Z",
     "iopub.status.idle": "2021-06-03T08:03:50.284619Z",
     "shell.execute_reply": "2021-06-03T08:03:50.283498Z",
     "shell.execute_reply.started": "2021-06-03T08:03:50.176116Z"
    },
    "hidden": true
   },
   "outputs": [
    {
     "data": {
      "text/plain": [
       "42"
      ]
     },
     "execution_count": 16,
     "metadata": {},
     "output_type": "execute_result"
    }
   ],
   "source": [
    "len(set(test.shop_id).intersection(set(train.shop_id)))"
   ]
  },
  {
   "cell_type": "code",
   "execution_count": 17,
   "metadata": {
    "execution": {
     "iopub.execute_input": "2021-06-03T08:03:51.078681Z",
     "iopub.status.busy": "2021-06-03T08:03:51.078331Z",
     "iopub.status.idle": "2021-06-03T08:03:51.087537Z",
     "shell.execute_reply": "2021-06-03T08:03:51.086444Z",
     "shell.execute_reply.started": "2021-06-03T08:03:51.07864Z"
    },
    "hidden": true
   },
   "outputs": [
    {
     "data": {
      "text/plain": [
       "5100"
      ]
     },
     "execution_count": 17,
     "metadata": {},
     "output_type": "execute_result"
    }
   ],
   "source": [
    "len(test.item_id.unique())"
   ]
  },
  {
   "cell_type": "code",
   "execution_count": 18,
   "metadata": {
    "execution": {
     "iopub.execute_input": "2021-06-03T08:03:51.495945Z",
     "iopub.status.busy": "2021-06-03T08:03:51.495588Z",
     "iopub.status.idle": "2021-06-03T08:03:51.792652Z",
     "shell.execute_reply": "2021-06-03T08:03:51.791994Z",
     "shell.execute_reply.started": "2021-06-03T08:03:51.495884Z"
    },
    "hidden": true
   },
   "outputs": [
    {
     "data": {
      "text/plain": [
       "4737"
      ]
     },
     "execution_count": 18,
     "metadata": {},
     "output_type": "execute_result"
    }
   ],
   "source": [
    "len(set(test.item_id).intersection(set(train.item_id)))"
   ]
  },
  {
   "cell_type": "code",
   "execution_count": 19,
   "metadata": {
    "_uuid": "fb69350aef2c28cdb619e2532de1e24ab3c43899",
    "execution": {
     "iopub.execute_input": "2021-06-03T08:03:52.120721Z",
     "iopub.status.busy": "2021-06-03T08:03:52.120308Z",
     "iopub.status.idle": "2021-06-03T08:03:52.451638Z",
     "shell.execute_reply": "2021-06-03T08:03:52.450885Z",
     "shell.execute_reply.started": "2021-06-03T08:03:52.120666Z"
    },
    "hidden": true
   },
   "outputs": [
    {
     "data": {
      "text/plain": [
       "(363, 5100, 214200)"
      ]
     },
     "execution_count": 19,
     "metadata": {},
     "output_type": "execute_result"
    }
   ],
   "source": [
    "len(list(set(test.item_id) - set(test.item_id).intersection(set(train.item_id)))), len(\n",
    "    list(set(test.item_id))\n",
    "), len(test)"
   ]
  },
  {
   "cell_type": "code",
   "execution_count": 21,
   "metadata": {
    "execution": {
     "iopub.execute_input": "2021-06-03T08:03:53.193602Z",
     "iopub.status.busy": "2021-06-03T08:03:53.19316Z",
     "iopub.status.idle": "2021-06-03T08:03:53.214911Z",
     "shell.execute_reply": "2021-06-03T08:03:53.214286Z",
     "shell.execute_reply.started": "2021-06-03T08:03:53.193559Z"
    },
    "hidden": true
   },
   "outputs": [
    {
     "data": {
      "text/html": [
       "<div>\n",
       "<style scoped>\n",
       "    .dataframe tbody tr th:only-of-type {\n",
       "        vertical-align: middle;\n",
       "    }\n",
       "\n",
       "    .dataframe tbody tr th {\n",
       "        vertical-align: top;\n",
       "    }\n",
       "\n",
       "    .dataframe thead th {\n",
       "        text-align: right;\n",
       "    }\n",
       "</style>\n",
       "<table border=\"1\" class=\"dataframe\">\n",
       "  <thead>\n",
       "    <tr style=\"text-align: right;\">\n",
       "      <th></th>\n",
       "      <th>date</th>\n",
       "      <th>date_block_num</th>\n",
       "      <th>shop_id</th>\n",
       "      <th>item_id</th>\n",
       "      <th>item_price</th>\n",
       "      <th>item_cnt_day</th>\n",
       "    </tr>\n",
       "  </thead>\n",
       "  <tbody>\n",
       "    <tr>\n",
       "      <th>0</th>\n",
       "      <td>02.01.2013</td>\n",
       "      <td>0</td>\n",
       "      <td>59</td>\n",
       "      <td>22154</td>\n",
       "      <td>999.00</td>\n",
       "      <td>1.0</td>\n",
       "    </tr>\n",
       "    <tr>\n",
       "      <th>1</th>\n",
       "      <td>03.01.2013</td>\n",
       "      <td>0</td>\n",
       "      <td>25</td>\n",
       "      <td>2552</td>\n",
       "      <td>899.00</td>\n",
       "      <td>1.0</td>\n",
       "    </tr>\n",
       "    <tr>\n",
       "      <th>2</th>\n",
       "      <td>05.01.2013</td>\n",
       "      <td>0</td>\n",
       "      <td>25</td>\n",
       "      <td>2552</td>\n",
       "      <td>899.00</td>\n",
       "      <td>-1.0</td>\n",
       "    </tr>\n",
       "    <tr>\n",
       "      <th>3</th>\n",
       "      <td>06.01.2013</td>\n",
       "      <td>0</td>\n",
       "      <td>25</td>\n",
       "      <td>2554</td>\n",
       "      <td>1709.05</td>\n",
       "      <td>1.0</td>\n",
       "    </tr>\n",
       "    <tr>\n",
       "      <th>4</th>\n",
       "      <td>15.01.2013</td>\n",
       "      <td>0</td>\n",
       "      <td>25</td>\n",
       "      <td>2555</td>\n",
       "      <td>1099.00</td>\n",
       "      <td>1.0</td>\n",
       "    </tr>\n",
       "  </tbody>\n",
       "</table>\n",
       "</div>"
      ],
      "text/plain": [
       "         date  date_block_num  shop_id  item_id  item_price  item_cnt_day\n",
       "0  02.01.2013               0       59    22154      999.00           1.0\n",
       "1  03.01.2013               0       25     2552      899.00           1.0\n",
       "2  05.01.2013               0       25     2552      899.00          -1.0\n",
       "3  06.01.2013               0       25     2554     1709.05           1.0\n",
       "4  15.01.2013               0       25     2555     1099.00           1.0"
      ]
     },
     "execution_count": 21,
     "metadata": {},
     "output_type": "execute_result"
    }
   ],
   "source": [
    "train[train.date_block_num == 0].head()"
   ]
  },
  {
   "cell_type": "code",
   "execution_count": 22,
   "metadata": {
    "_uuid": "7626c7455ea71b65894c6c866519df15080fa2ac",
    "execution": {
     "iopub.execute_input": "2021-06-03T08:03:54.751684Z",
     "iopub.status.busy": "2021-06-03T08:03:54.751094Z",
     "iopub.status.idle": "2021-06-03T08:04:13.047405Z",
     "shell.execute_reply": "2021-06-03T08:04:13.046595Z",
     "shell.execute_reply.started": "2021-06-03T08:03:54.75163Z"
    },
    "hidden": true
   },
   "outputs": [
    {
     "data": {
      "text/plain": [
       "12.567546129226685"
      ]
     },
     "execution_count": 22,
     "metadata": {},
     "output_type": "execute_result"
    }
   ],
   "source": [
    "ts = time.time()\n",
    "matrix = []\n",
    "cols = [\"date_block_num\", \"shop_id\", \"item_id\"]\n",
    "for i in range(34):\n",
    "    sales = train[train.date_block_num == i]\n",
    "    matrix.append(\n",
    "        np.array(\n",
    "            list(product([i], sales.shop_id.unique(), sales.item_id.unique())),\n",
    "            dtype=\"int16\",\n",
    "        )\n",
    "    )\n",
    "\n",
    "matrix = pd.DataFrame(np.vstack(matrix), columns=cols)\n",
    "matrix[\"date_block_num\"] = matrix[\"date_block_num\"].astype(np.int8)\n",
    "matrix[\"shop_id\"] = matrix[\"shop_id\"].astype(np.int8)\n",
    "matrix[\"item_id\"] = matrix[\"item_id\"].astype(np.int16)\n",
    "matrix.sort_values(cols, inplace=True)\n",
    "time.time() - ts"
   ]
  },
  {
   "cell_type": "code",
   "execution_count": 23,
   "metadata": {
    "execution": {
     "iopub.execute_input": "2021-06-03T08:04:13.048716Z",
     "iopub.status.busy": "2021-06-03T08:04:13.048478Z",
     "iopub.status.idle": "2021-06-03T08:04:13.059618Z",
     "shell.execute_reply": "2021-06-03T08:04:13.058841Z",
     "shell.execute_reply.started": "2021-06-03T08:04:13.048676Z"
    },
    "hidden": true
   },
   "outputs": [
    {
     "data": {
      "text/html": [
       "<div>\n",
       "<style scoped>\n",
       "    .dataframe tbody tr th:only-of-type {\n",
       "        vertical-align: middle;\n",
       "    }\n",
       "\n",
       "    .dataframe tbody tr th {\n",
       "        vertical-align: top;\n",
       "    }\n",
       "\n",
       "    .dataframe thead th {\n",
       "        text-align: right;\n",
       "    }\n",
       "</style>\n",
       "<table border=\"1\" class=\"dataframe\">\n",
       "  <thead>\n",
       "    <tr style=\"text-align: right;\">\n",
       "      <th></th>\n",
       "      <th>date_block_num</th>\n",
       "      <th>shop_id</th>\n",
       "      <th>item_id</th>\n",
       "    </tr>\n",
       "  </thead>\n",
       "  <tbody>\n",
       "    <tr>\n",
       "      <th>114910</th>\n",
       "      <td>0</td>\n",
       "      <td>2</td>\n",
       "      <td>19</td>\n",
       "    </tr>\n",
       "    <tr>\n",
       "      <th>117150</th>\n",
       "      <td>0</td>\n",
       "      <td>2</td>\n",
       "      <td>27</td>\n",
       "    </tr>\n",
       "    <tr>\n",
       "      <th>120623</th>\n",
       "      <td>0</td>\n",
       "      <td>2</td>\n",
       "      <td>28</td>\n",
       "    </tr>\n",
       "    <tr>\n",
       "      <th>118316</th>\n",
       "      <td>0</td>\n",
       "      <td>2</td>\n",
       "      <td>29</td>\n",
       "    </tr>\n",
       "    <tr>\n",
       "      <th>114602</th>\n",
       "      <td>0</td>\n",
       "      <td>2</td>\n",
       "      <td>32</td>\n",
       "    </tr>\n",
       "  </tbody>\n",
       "</table>\n",
       "</div>"
      ],
      "text/plain": [
       "        date_block_num  shop_id  item_id\n",
       "114910               0        2       19\n",
       "117150               0        2       27\n",
       "120623               0        2       28\n",
       "118316               0        2       29\n",
       "114602               0        2       32"
      ]
     },
     "execution_count": 23,
     "metadata": {},
     "output_type": "execute_result"
    }
   ],
   "source": [
    "matrix.head()"
   ]
  },
  {
   "cell_type": "markdown",
   "metadata": {
    "_uuid": "867e91a7570dd78b4834f4f1a166e58f80b63f93",
    "hidden": true
   },
   "source": [
    "Aggregate train set by shop/item pairs to calculate target aggreagates, then <b>clip(0,20)</b> target value. This way train target will be similar to the test predictions.\n",
    "\n",
    "<i>I use floats instead of ints for item_cnt_month to avoid downcasting it after concatination with the test set later. If it would be int16, after concatination with NaN values it becomes int64, but foat16 becomes float16 even with NaNs.</i>"
   ]
  },
  {
   "cell_type": "code",
   "execution_count": 24,
   "metadata": {
    "_uuid": "9fef5477060be7d2e6c85dcb79d8e18e6253f7dd",
    "execution": {
     "iopub.execute_input": "2021-06-03T08:04:26.248516Z",
     "iopub.status.busy": "2021-06-03T08:04:26.248111Z",
     "iopub.status.idle": "2021-06-03T08:04:26.266923Z",
     "shell.execute_reply": "2021-06-03T08:04:26.265475Z",
     "shell.execute_reply.started": "2021-06-03T08:04:26.248442Z"
    },
    "hidden": true
   },
   "outputs": [],
   "source": [
    "train[\"revenue\"] = train[\"item_price\"] * train[\"item_cnt_day\"]"
   ]
  },
  {
   "cell_type": "code",
   "execution_count": 45,
   "metadata": {
    "hidden": true
   },
   "outputs": [
    {
     "data": {
      "text/html": [
       "<div>\n",
       "<style scoped>\n",
       "    .dataframe tbody tr th:only-of-type {\n",
       "        vertical-align: middle;\n",
       "    }\n",
       "\n",
       "    .dataframe tbody tr th {\n",
       "        vertical-align: top;\n",
       "    }\n",
       "\n",
       "    .dataframe thead th {\n",
       "        text-align: right;\n",
       "    }\n",
       "</style>\n",
       "<table border=\"1\" class=\"dataframe\">\n",
       "  <thead>\n",
       "    <tr style=\"text-align: right;\">\n",
       "      <th></th>\n",
       "      <th>date</th>\n",
       "      <th>date_block_num</th>\n",
       "      <th>shop_id</th>\n",
       "      <th>item_id</th>\n",
       "      <th>item_price</th>\n",
       "      <th>item_cnt_day</th>\n",
       "      <th>revenue</th>\n",
       "    </tr>\n",
       "  </thead>\n",
       "  <tbody>\n",
       "  </tbody>\n",
       "</table>\n",
       "</div>"
      ],
      "text/plain": [
       "Empty DataFrame\n",
       "Columns: [date, date_block_num, shop_id, item_id, item_price, item_cnt_day, revenue]\n",
       "Index: []"
      ]
     },
     "execution_count": 45,
     "metadata": {},
     "output_type": "execute_result"
    }
   ],
   "source": [
    "train[\n",
    "    (train[\"date_block_num\"] == 0) & (train[\"shop_id\"] == 2) & (train[\"item_id\"] == 19)\n",
    "]"
   ]
  },
  {
   "cell_type": "code",
   "execution_count": 25,
   "metadata": {
    "_uuid": "7dd27181918fc7df89676e24d72130d183929d2d",
    "execution": {
     "iopub.execute_input": "2021-06-03T08:04:27.167784Z",
     "iopub.status.busy": "2021-06-03T08:04:27.167435Z",
     "iopub.status.idle": "2021-06-03T08:04:32.654332Z",
     "shell.execute_reply": "2021-06-03T08:04:32.653533Z",
     "shell.execute_reply.started": "2021-06-03T08:04:27.167701Z"
    },
    "hidden": true
   },
   "outputs": [
    {
     "data": {
      "text/plain": [
       "5.166126728057861"
      ]
     },
     "execution_count": 25,
     "metadata": {},
     "output_type": "execute_result"
    }
   ],
   "source": [
    "ts = time.time()\n",
    "group = train.groupby([\"date_block_num\", \"shop_id\", \"item_id\"]).agg(\n",
    "    {\"item_cnt_day\": [\"sum\"]}\n",
    ")\n",
    "group.columns = [\"item_cnt_month\"]\n",
    "group.reset_index(inplace=True)\n",
    "\n",
    "matrix = pd.merge(matrix, group, on=cols, how=\"left\")\n",
    "matrix[\"item_cnt_month\"] = (\n",
    "    matrix[\"item_cnt_month\"]\n",
    "    .fillna(0)\n",
    "    .clip(0, 20)  # NB clip target here\n",
    "    .astype(np.float16)\n",
    ")\n",
    "time.time() - ts"
   ]
  },
  {
   "cell_type": "code",
   "execution_count": 29,
   "metadata": {
    "execution": {
     "iopub.execute_input": "2021-06-03T08:04:43.364972Z",
     "iopub.status.busy": "2021-06-03T08:04:43.364647Z",
     "iopub.status.idle": "2021-06-03T08:04:43.37695Z",
     "shell.execute_reply": "2021-06-03T08:04:43.376208Z",
     "shell.execute_reply.started": "2021-06-03T08:04:43.36493Z"
    },
    "hidden": true
   },
   "outputs": [
    {
     "data": {
      "text/html": [
       "<div>\n",
       "<style scoped>\n",
       "    .dataframe tbody tr th:only-of-type {\n",
       "        vertical-align: middle;\n",
       "    }\n",
       "\n",
       "    .dataframe tbody tr th {\n",
       "        vertical-align: top;\n",
       "    }\n",
       "\n",
       "    .dataframe thead th {\n",
       "        text-align: right;\n",
       "    }\n",
       "</style>\n",
       "<table border=\"1\" class=\"dataframe\">\n",
       "  <thead>\n",
       "    <tr style=\"text-align: right;\">\n",
       "      <th></th>\n",
       "      <th>date_block_num</th>\n",
       "      <th>shop_id</th>\n",
       "      <th>item_id</th>\n",
       "      <th>item_cnt_month</th>\n",
       "    </tr>\n",
       "  </thead>\n",
       "  <tbody>\n",
       "    <tr>\n",
       "      <th>0</th>\n",
       "      <td>0</td>\n",
       "      <td>2</td>\n",
       "      <td>19</td>\n",
       "      <td>0.0</td>\n",
       "    </tr>\n",
       "    <tr>\n",
       "      <th>1</th>\n",
       "      <td>0</td>\n",
       "      <td>2</td>\n",
       "      <td>27</td>\n",
       "      <td>1.0</td>\n",
       "    </tr>\n",
       "    <tr>\n",
       "      <th>2</th>\n",
       "      <td>0</td>\n",
       "      <td>2</td>\n",
       "      <td>28</td>\n",
       "      <td>0.0</td>\n",
       "    </tr>\n",
       "    <tr>\n",
       "      <th>3</th>\n",
       "      <td>0</td>\n",
       "      <td>2</td>\n",
       "      <td>29</td>\n",
       "      <td>0.0</td>\n",
       "    </tr>\n",
       "    <tr>\n",
       "      <th>4</th>\n",
       "      <td>0</td>\n",
       "      <td>2</td>\n",
       "      <td>32</td>\n",
       "      <td>0.0</td>\n",
       "    </tr>\n",
       "  </tbody>\n",
       "</table>\n",
       "</div>"
      ],
      "text/plain": [
       "   date_block_num  shop_id  item_id  item_cnt_month\n",
       "0               0        2       19             0.0\n",
       "1               0        2       27             1.0\n",
       "2               0        2       28             0.0\n",
       "3               0        2       29             0.0\n",
       "4               0        2       32             0.0"
      ]
     },
     "execution_count": 29,
     "metadata": {},
     "output_type": "execute_result"
    }
   ],
   "source": [
    "matrix.head()"
   ]
  },
  {
   "cell_type": "markdown",
   "metadata": {
    "_uuid": "315bc6107a93f3926a64fd09ea9244e9281ee41f",
    "hidden": true
   },
   "source": [
    "## Test set\n",
    "To use time tricks append test pairs to the matrix."
   ]
  },
  {
   "cell_type": "code",
   "execution_count": 30,
   "metadata": {
    "_uuid": "29d02bdb4fa768577607bf735b918ca81da85d41",
    "execution": {
     "iopub.execute_input": "2021-06-03T08:07:53.192302Z",
     "iopub.status.busy": "2021-06-03T08:07:53.191966Z",
     "iopub.status.idle": "2021-06-03T08:07:53.203081Z",
     "shell.execute_reply": "2021-06-03T08:07:53.202194Z",
     "shell.execute_reply.started": "2021-06-03T08:07:53.192234Z"
    },
    "hidden": true
   },
   "outputs": [],
   "source": [
    "test[\"date_block_num\"] = 34\n",
    "test[\"date_block_num\"] = test[\"date_block_num\"].astype(np.int8)\n",
    "test[\"shop_id\"] = test[\"shop_id\"].astype(np.int8)\n",
    "test[\"item_id\"] = test[\"item_id\"].astype(np.int16)"
   ]
  },
  {
   "cell_type": "code",
   "execution_count": 31,
   "metadata": {
    "_uuid": "177fbbab94c8057d67d61357d29581248468a74d",
    "execution": {
     "iopub.execute_input": "2021-06-03T08:08:10.715484Z",
     "iopub.status.busy": "2021-06-03T08:08:10.714922Z",
     "iopub.status.idle": "2021-06-03T08:08:10.81401Z",
     "shell.execute_reply": "2021-06-03T08:08:10.813185Z",
     "shell.execute_reply.started": "2021-06-03T08:08:10.715435Z"
    },
    "hidden": true
   },
   "outputs": [
    {
     "data": {
      "text/plain": [
       "0.10763120651245117"
      ]
     },
     "execution_count": 31,
     "metadata": {},
     "output_type": "execute_result"
    }
   ],
   "source": [
    "ts = time.time()\n",
    "matrix = pd.concat([matrix, test], ignore_index=True, sort=False, keys=cols)\n",
    "matrix.fillna(0, inplace=True)  # 34 month\n",
    "time.time() - ts"
   ]
  },
  {
   "cell_type": "code",
   "execution_count": 33,
   "metadata": {
    "hidden": true
   },
   "outputs": [
    {
     "data": {
      "text/html": [
       "<div>\n",
       "<style scoped>\n",
       "    .dataframe tbody tr th:only-of-type {\n",
       "        vertical-align: middle;\n",
       "    }\n",
       "\n",
       "    .dataframe tbody tr th {\n",
       "        vertical-align: top;\n",
       "    }\n",
       "\n",
       "    .dataframe thead th {\n",
       "        text-align: right;\n",
       "    }\n",
       "</style>\n",
       "<table border=\"1\" class=\"dataframe\">\n",
       "  <thead>\n",
       "    <tr style=\"text-align: right;\">\n",
       "      <th></th>\n",
       "      <th>date_block_num</th>\n",
       "      <th>shop_id</th>\n",
       "      <th>item_id</th>\n",
       "      <th>item_cnt_month</th>\n",
       "    </tr>\n",
       "  </thead>\n",
       "  <tbody>\n",
       "    <tr>\n",
       "      <th>11127999</th>\n",
       "      <td>34</td>\n",
       "      <td>45</td>\n",
       "      <td>18454</td>\n",
       "      <td>0.0</td>\n",
       "    </tr>\n",
       "    <tr>\n",
       "      <th>11128000</th>\n",
       "      <td>34</td>\n",
       "      <td>45</td>\n",
       "      <td>16188</td>\n",
       "      <td>0.0</td>\n",
       "    </tr>\n",
       "    <tr>\n",
       "      <th>11128001</th>\n",
       "      <td>34</td>\n",
       "      <td>45</td>\n",
       "      <td>15757</td>\n",
       "      <td>0.0</td>\n",
       "    </tr>\n",
       "    <tr>\n",
       "      <th>11128002</th>\n",
       "      <td>34</td>\n",
       "      <td>45</td>\n",
       "      <td>19648</td>\n",
       "      <td>0.0</td>\n",
       "    </tr>\n",
       "    <tr>\n",
       "      <th>11128003</th>\n",
       "      <td>34</td>\n",
       "      <td>45</td>\n",
       "      <td>969</td>\n",
       "      <td>0.0</td>\n",
       "    </tr>\n",
       "  </tbody>\n",
       "</table>\n",
       "</div>"
      ],
      "text/plain": [
       "          date_block_num  shop_id  item_id  item_cnt_month\n",
       "11127999              34       45    18454             0.0\n",
       "11128000              34       45    16188             0.0\n",
       "11128001              34       45    15757             0.0\n",
       "11128002              34       45    19648             0.0\n",
       "11128003              34       45      969             0.0"
      ]
     },
     "execution_count": 33,
     "metadata": {},
     "output_type": "execute_result"
    }
   ],
   "source": [
    "matrix.tail()"
   ]
  },
  {
   "cell_type": "markdown",
   "metadata": {
    "_uuid": "233e394a6cebf36ef002dc76fef8d430026a52b3",
    "hidden": true
   },
   "source": [
    "## Shops/Items/Cats features"
   ]
  },
  {
   "cell_type": "code",
   "execution_count": 34,
   "metadata": {
    "_uuid": "7dfd5df3e2bcaee4c312f3979736f52c40f2560f",
    "execution": {
     "iopub.execute_input": "2021-06-03T08:09:51.541685Z",
     "iopub.status.busy": "2021-06-03T08:09:51.541356Z",
     "iopub.status.idle": "2021-06-03T08:09:58.342291Z",
     "shell.execute_reply": "2021-06-03T08:09:58.341302Z",
     "shell.execute_reply.started": "2021-06-03T08:09:51.541632Z"
    },
    "hidden": true
   },
   "outputs": [
    {
     "data": {
      "text/plain": [
       "5.2595438957214355"
      ]
     },
     "execution_count": 34,
     "metadata": {},
     "output_type": "execute_result"
    }
   ],
   "source": [
    "ts = time.time()\n",
    "matrix = pd.merge(matrix, shops, on=[\"shop_id\"], how=\"left\")\n",
    "matrix = pd.merge(matrix, items, on=[\"item_id\"], how=\"left\")\n",
    "matrix = pd.merge(matrix, cats, on=[\"item_category_id\"], how=\"left\")\n",
    "matrix[\"city_code\"] = matrix[\"city_code\"].astype(np.int8)\n",
    "matrix[\"item_category_id\"] = matrix[\"item_category_id\"].astype(np.int8)\n",
    "matrix[\"type_code\"] = matrix[\"type_code\"].astype(np.int8)\n",
    "matrix[\"subtype_code\"] = matrix[\"subtype_code\"].astype(np.int8)\n",
    "time.time() - ts"
   ]
  },
  {
   "cell_type": "code",
   "execution_count": 35,
   "metadata": {
    "execution": {
     "iopub.execute_input": "2021-06-03T08:09:59.998421Z",
     "iopub.status.busy": "2021-06-03T08:09:59.998082Z",
     "iopub.status.idle": "2021-06-03T08:10:00.011437Z",
     "shell.execute_reply": "2021-06-03T08:10:00.010802Z",
     "shell.execute_reply.started": "2021-06-03T08:09:59.998371Z"
    },
    "hidden": true
   },
   "outputs": [
    {
     "data": {
      "text/html": [
       "<div>\n",
       "<style scoped>\n",
       "    .dataframe tbody tr th:only-of-type {\n",
       "        vertical-align: middle;\n",
       "    }\n",
       "\n",
       "    .dataframe tbody tr th {\n",
       "        vertical-align: top;\n",
       "    }\n",
       "\n",
       "    .dataframe thead th {\n",
       "        text-align: right;\n",
       "    }\n",
       "</style>\n",
       "<table border=\"1\" class=\"dataframe\">\n",
       "  <thead>\n",
       "    <tr style=\"text-align: right;\">\n",
       "      <th></th>\n",
       "      <th>date_block_num</th>\n",
       "      <th>shop_id</th>\n",
       "      <th>item_id</th>\n",
       "      <th>item_cnt_month</th>\n",
       "      <th>city_code</th>\n",
       "      <th>item_category_id</th>\n",
       "      <th>type_code</th>\n",
       "      <th>subtype_code</th>\n",
       "    </tr>\n",
       "  </thead>\n",
       "  <tbody>\n",
       "    <tr>\n",
       "      <th>0</th>\n",
       "      <td>0</td>\n",
       "      <td>2</td>\n",
       "      <td>19</td>\n",
       "      <td>0.0</td>\n",
       "      <td>0</td>\n",
       "      <td>40</td>\n",
       "      <td>11</td>\n",
       "      <td>4</td>\n",
       "    </tr>\n",
       "    <tr>\n",
       "      <th>1</th>\n",
       "      <td>0</td>\n",
       "      <td>2</td>\n",
       "      <td>27</td>\n",
       "      <td>1.0</td>\n",
       "      <td>0</td>\n",
       "      <td>19</td>\n",
       "      <td>5</td>\n",
       "      <td>10</td>\n",
       "    </tr>\n",
       "    <tr>\n",
       "      <th>2</th>\n",
       "      <td>0</td>\n",
       "      <td>2</td>\n",
       "      <td>28</td>\n",
       "      <td>0.0</td>\n",
       "      <td>0</td>\n",
       "      <td>30</td>\n",
       "      <td>8</td>\n",
       "      <td>55</td>\n",
       "    </tr>\n",
       "    <tr>\n",
       "      <th>3</th>\n",
       "      <td>0</td>\n",
       "      <td>2</td>\n",
       "      <td>29</td>\n",
       "      <td>0.0</td>\n",
       "      <td>0</td>\n",
       "      <td>23</td>\n",
       "      <td>5</td>\n",
       "      <td>16</td>\n",
       "    </tr>\n",
       "    <tr>\n",
       "      <th>4</th>\n",
       "      <td>0</td>\n",
       "      <td>2</td>\n",
       "      <td>32</td>\n",
       "      <td>0.0</td>\n",
       "      <td>0</td>\n",
       "      <td>40</td>\n",
       "      <td>11</td>\n",
       "      <td>4</td>\n",
       "    </tr>\n",
       "  </tbody>\n",
       "</table>\n",
       "</div>"
      ],
      "text/plain": [
       "   date_block_num  shop_id  item_id  item_cnt_month  city_code  \\\n",
       "0               0        2       19             0.0          0   \n",
       "1               0        2       27             1.0          0   \n",
       "2               0        2       28             0.0          0   \n",
       "3               0        2       29             0.0          0   \n",
       "4               0        2       32             0.0          0   \n",
       "\n",
       "   item_category_id  type_code  subtype_code  \n",
       "0                40         11             4  \n",
       "1                19          5            10  \n",
       "2                30          8            55  \n",
       "3                23          5            16  \n",
       "4                40         11             4  "
      ]
     },
     "execution_count": 35,
     "metadata": {},
     "output_type": "execute_result"
    }
   ],
   "source": [
    "matrix.head()"
   ]
  },
  {
   "cell_type": "code",
   "execution_count": 36,
   "metadata": {
    "hidden": true
   },
   "outputs": [
    {
     "data": {
      "text/html": [
       "<div>\n",
       "<style scoped>\n",
       "    .dataframe tbody tr th:only-of-type {\n",
       "        vertical-align: middle;\n",
       "    }\n",
       "\n",
       "    .dataframe tbody tr th {\n",
       "        vertical-align: top;\n",
       "    }\n",
       "\n",
       "    .dataframe thead th {\n",
       "        text-align: right;\n",
       "    }\n",
       "</style>\n",
       "<table border=\"1\" class=\"dataframe\">\n",
       "  <thead>\n",
       "    <tr style=\"text-align: right;\">\n",
       "      <th></th>\n",
       "      <th>date_block_num</th>\n",
       "      <th>shop_id</th>\n",
       "      <th>item_id</th>\n",
       "      <th>item_cnt_month</th>\n",
       "      <th>city_code</th>\n",
       "      <th>item_category_id</th>\n",
       "      <th>type_code</th>\n",
       "      <th>subtype_code</th>\n",
       "    </tr>\n",
       "  </thead>\n",
       "  <tbody>\n",
       "    <tr>\n",
       "      <th>11127999</th>\n",
       "      <td>34</td>\n",
       "      <td>45</td>\n",
       "      <td>18454</td>\n",
       "      <td>0.0</td>\n",
       "      <td>20</td>\n",
       "      <td>55</td>\n",
       "      <td>13</td>\n",
       "      <td>2</td>\n",
       "    </tr>\n",
       "    <tr>\n",
       "      <th>11128000</th>\n",
       "      <td>34</td>\n",
       "      <td>45</td>\n",
       "      <td>16188</td>\n",
       "      <td>0.0</td>\n",
       "      <td>20</td>\n",
       "      <td>64</td>\n",
       "      <td>14</td>\n",
       "      <td>42</td>\n",
       "    </tr>\n",
       "    <tr>\n",
       "      <th>11128001</th>\n",
       "      <td>34</td>\n",
       "      <td>45</td>\n",
       "      <td>15757</td>\n",
       "      <td>0.0</td>\n",
       "      <td>20</td>\n",
       "      <td>55</td>\n",
       "      <td>13</td>\n",
       "      <td>2</td>\n",
       "    </tr>\n",
       "    <tr>\n",
       "      <th>11128002</th>\n",
       "      <td>34</td>\n",
       "      <td>45</td>\n",
       "      <td>19648</td>\n",
       "      <td>0.0</td>\n",
       "      <td>20</td>\n",
       "      <td>40</td>\n",
       "      <td>11</td>\n",
       "      <td>4</td>\n",
       "    </tr>\n",
       "    <tr>\n",
       "      <th>11128003</th>\n",
       "      <td>34</td>\n",
       "      <td>45</td>\n",
       "      <td>969</td>\n",
       "      <td>0.0</td>\n",
       "      <td>20</td>\n",
       "      <td>37</td>\n",
       "      <td>11</td>\n",
       "      <td>1</td>\n",
       "    </tr>\n",
       "  </tbody>\n",
       "</table>\n",
       "</div>"
      ],
      "text/plain": [
       "          date_block_num  shop_id  item_id  item_cnt_month  city_code  \\\n",
       "11127999              34       45    18454             0.0         20   \n",
       "11128000              34       45    16188             0.0         20   \n",
       "11128001              34       45    15757             0.0         20   \n",
       "11128002              34       45    19648             0.0         20   \n",
       "11128003              34       45      969             0.0         20   \n",
       "\n",
       "          item_category_id  type_code  subtype_code  \n",
       "11127999                55         13             2  \n",
       "11128000                64         14            42  \n",
       "11128001                55         13             2  \n",
       "11128002                40         11             4  \n",
       "11128003                37         11             1  "
      ]
     },
     "execution_count": 36,
     "metadata": {},
     "output_type": "execute_result"
    }
   ],
   "source": [
    "matrix.tail()"
   ]
  },
  {
   "cell_type": "markdown",
   "metadata": {
    "_uuid": "8358b291fdc8e0e7d1b5700974803b3f104715f7",
    "hidden": true
   },
   "source": [
    "## Traget lags"
   ]
  },
  {
   "cell_type": "code",
   "execution_count": 46,
   "metadata": {
    "_uuid": "9cd7bcc7643ce4545475e8e6f80d09a979aac42d",
    "execution": {
     "iopub.execute_input": "2021-06-03T08:11:55.410891Z",
     "iopub.status.busy": "2021-06-03T08:11:55.410378Z",
     "iopub.status.idle": "2021-06-03T08:11:55.420917Z",
     "shell.execute_reply": "2021-06-03T08:11:55.419942Z",
     "shell.execute_reply.started": "2021-06-03T08:11:55.410831Z"
    },
    "hidden": true
   },
   "outputs": [],
   "source": [
    "def lag_feature(df, lags, col):\n",
    "    tmp = df[[\"date_block_num\", \"shop_id\", \"item_id\", col]]\n",
    "    for i in lags:\n",
    "        shifted = tmp.copy()\n",
    "        shifted.columns = [\n",
    "            \"date_block_num\",\n",
    "            \"shop_id\",\n",
    "            \"item_id\",\n",
    "            col + \"_lag_\" + str(i),\n",
    "        ]\n",
    "        shifted[\"date_block_num\"] += i\n",
    "        df = pd.merge(\n",
    "            df, shifted, on=[\"date_block_num\", \"shop_id\", \"item_id\"], how=\"left\"\n",
    "        )\n",
    "    return df"
   ]
  },
  {
   "cell_type": "code",
   "execution_count": 47,
   "metadata": {
    "_uuid": "78bf7ece93ebc4629ad0e48cd6a9927788d8706d",
    "execution": {
     "iopub.execute_input": "2021-06-03T08:13:41.755918Z",
     "iopub.status.busy": "2021-06-03T08:13:41.755624Z",
     "iopub.status.idle": "2021-06-03T08:14:19.748793Z",
     "shell.execute_reply": "2021-06-03T08:14:19.748102Z",
     "shell.execute_reply.started": "2021-06-03T08:13:41.755878Z"
    },
    "hidden": true
   },
   "outputs": [
    {
     "data": {
      "text/plain": [
       "33.954453468322754"
      ]
     },
     "execution_count": 47,
     "metadata": {},
     "output_type": "execute_result"
    }
   ],
   "source": [
    "ts = time.time()\n",
    "matrix = lag_feature(matrix, [1, 2, 3, 6, 12], \"item_cnt_month\")\n",
    "time.time() - ts"
   ]
  },
  {
   "cell_type": "markdown",
   "metadata": {
    "_uuid": "c67bf4dbcef884ffe9d19c65d37bc4de1f287ef6",
    "hidden": true
   },
   "source": [
    "## Mean encoded features"
   ]
  },
  {
   "cell_type": "code",
   "execution_count": 48,
   "metadata": {
    "_uuid": "763aca242154ea10fa0a62fffadb4ef90e9532d6",
    "execution": {
     "iopub.execute_input": "2021-06-03T08:21:28.445716Z",
     "iopub.status.busy": "2021-06-03T08:21:28.445434Z",
     "iopub.status.idle": "2021-06-03T08:21:43.101443Z",
     "shell.execute_reply": "2021-06-03T08:21:43.100652Z",
     "shell.execute_reply.started": "2021-06-03T08:21:28.445681Z"
    },
    "hidden": true
   },
   "outputs": [
    {
     "data": {
      "text/plain": [
       "11.706616163253784"
      ]
     },
     "execution_count": 48,
     "metadata": {},
     "output_type": "execute_result"
    }
   ],
   "source": [
    "ts = time.time()\n",
    "group = matrix.groupby([\"date_block_num\"]).agg({\"item_cnt_month\": [\"mean\"]})\n",
    "group.columns = [\"date_avg_item_cnt\"]\n",
    "group.reset_index(inplace=True)\n",
    "\n",
    "matrix = pd.merge(matrix, group, on=[\"date_block_num\"], how=\"left\")\n",
    "matrix[\"date_avg_item_cnt\"] = matrix[\"date_avg_item_cnt\"].astype(np.float16)\n",
    "matrix = lag_feature(matrix, [1], \"date_avg_item_cnt\")\n",
    "matrix.drop([\"date_avg_item_cnt\"], axis=1, inplace=True)\n",
    "time.time() - ts"
   ]
  },
  {
   "cell_type": "code",
   "execution_count": 49,
   "metadata": {
    "execution": {
     "iopub.execute_input": "2021-06-03T08:30:05.758195Z",
     "iopub.status.busy": "2021-06-03T08:30:05.757863Z",
     "iopub.status.idle": "2021-06-03T08:30:05.809499Z",
     "shell.execute_reply": "2021-06-03T08:30:05.808427Z",
     "shell.execute_reply.started": "2021-06-03T08:30:05.758136Z"
    },
    "hidden": true
   },
   "outputs": [
    {
     "data": {
      "text/html": [
       "<div>\n",
       "<style scoped>\n",
       "    .dataframe tbody tr th:only-of-type {\n",
       "        vertical-align: middle;\n",
       "    }\n",
       "\n",
       "    .dataframe tbody tr th {\n",
       "        vertical-align: top;\n",
       "    }\n",
       "\n",
       "    .dataframe thead th {\n",
       "        text-align: right;\n",
       "    }\n",
       "</style>\n",
       "<table border=\"1\" class=\"dataframe\">\n",
       "  <thead>\n",
       "    <tr style=\"text-align: right;\">\n",
       "      <th></th>\n",
       "      <th>date_block_num</th>\n",
       "      <th>shop_id</th>\n",
       "      <th>item_id</th>\n",
       "      <th>item_cnt_month</th>\n",
       "      <th>city_code</th>\n",
       "      <th>item_category_id</th>\n",
       "      <th>type_code</th>\n",
       "      <th>subtype_code</th>\n",
       "      <th>item_cnt_month_lag_1</th>\n",
       "      <th>item_cnt_month_lag_2</th>\n",
       "      <th>item_cnt_month_lag_3</th>\n",
       "      <th>item_cnt_month_lag_6</th>\n",
       "      <th>item_cnt_month_lag_12</th>\n",
       "      <th>date_avg_item_cnt_lag_1</th>\n",
       "    </tr>\n",
       "  </thead>\n",
       "  <tbody>\n",
       "    <tr>\n",
       "      <th>0</th>\n",
       "      <td>0</td>\n",
       "      <td>2</td>\n",
       "      <td>19</td>\n",
       "      <td>0.0</td>\n",
       "      <td>0</td>\n",
       "      <td>40</td>\n",
       "      <td>11</td>\n",
       "      <td>4</td>\n",
       "      <td>NaN</td>\n",
       "      <td>NaN</td>\n",
       "      <td>NaN</td>\n",
       "      <td>NaN</td>\n",
       "      <td>NaN</td>\n",
       "      <td>NaN</td>\n",
       "    </tr>\n",
       "    <tr>\n",
       "      <th>8115</th>\n",
       "      <td>0</td>\n",
       "      <td>3</td>\n",
       "      <td>19</td>\n",
       "      <td>0.0</td>\n",
       "      <td>1</td>\n",
       "      <td>40</td>\n",
       "      <td>11</td>\n",
       "      <td>4</td>\n",
       "      <td>NaN</td>\n",
       "      <td>NaN</td>\n",
       "      <td>NaN</td>\n",
       "      <td>NaN</td>\n",
       "      <td>NaN</td>\n",
       "      <td>NaN</td>\n",
       "    </tr>\n",
       "    <tr>\n",
       "      <th>16230</th>\n",
       "      <td>0</td>\n",
       "      <td>4</td>\n",
       "      <td>19</td>\n",
       "      <td>0.0</td>\n",
       "      <td>2</td>\n",
       "      <td>40</td>\n",
       "      <td>11</td>\n",
       "      <td>4</td>\n",
       "      <td>NaN</td>\n",
       "      <td>NaN</td>\n",
       "      <td>NaN</td>\n",
       "      <td>NaN</td>\n",
       "      <td>NaN</td>\n",
       "      <td>NaN</td>\n",
       "    </tr>\n",
       "    <tr>\n",
       "      <th>24345</th>\n",
       "      <td>0</td>\n",
       "      <td>6</td>\n",
       "      <td>19</td>\n",
       "      <td>0.0</td>\n",
       "      <td>4</td>\n",
       "      <td>40</td>\n",
       "      <td>11</td>\n",
       "      <td>4</td>\n",
       "      <td>NaN</td>\n",
       "      <td>NaN</td>\n",
       "      <td>NaN</td>\n",
       "      <td>NaN</td>\n",
       "      <td>NaN</td>\n",
       "      <td>NaN</td>\n",
       "    </tr>\n",
       "    <tr>\n",
       "      <th>32460</th>\n",
       "      <td>0</td>\n",
       "      <td>7</td>\n",
       "      <td>19</td>\n",
       "      <td>0.0</td>\n",
       "      <td>4</td>\n",
       "      <td>40</td>\n",
       "      <td>11</td>\n",
       "      <td>4</td>\n",
       "      <td>NaN</td>\n",
       "      <td>NaN</td>\n",
       "      <td>NaN</td>\n",
       "      <td>NaN</td>\n",
       "      <td>NaN</td>\n",
       "      <td>NaN</td>\n",
       "    </tr>\n",
       "  </tbody>\n",
       "</table>\n",
       "</div>"
      ],
      "text/plain": [
       "       date_block_num  shop_id  item_id  item_cnt_month  city_code  \\\n",
       "0                   0        2       19             0.0          0   \n",
       "8115                0        3       19             0.0          1   \n",
       "16230               0        4       19             0.0          2   \n",
       "24345               0        6       19             0.0          4   \n",
       "32460               0        7       19             0.0          4   \n",
       "\n",
       "       item_category_id  type_code  subtype_code  item_cnt_month_lag_1  \\\n",
       "0                    40         11             4                   NaN   \n",
       "8115                 40         11             4                   NaN   \n",
       "16230                40         11             4                   NaN   \n",
       "24345                40         11             4                   NaN   \n",
       "32460                40         11             4                   NaN   \n",
       "\n",
       "       item_cnt_month_lag_2  item_cnt_month_lag_3  item_cnt_month_lag_6  \\\n",
       "0                       NaN                   NaN                   NaN   \n",
       "8115                    NaN                   NaN                   NaN   \n",
       "16230                   NaN                   NaN                   NaN   \n",
       "24345                   NaN                   NaN                   NaN   \n",
       "32460                   NaN                   NaN                   NaN   \n",
       "\n",
       "       item_cnt_month_lag_12  date_avg_item_cnt_lag_1  \n",
       "0                        NaN                      NaN  \n",
       "8115                     NaN                      NaN  \n",
       "16230                    NaN                      NaN  \n",
       "24345                    NaN                      NaN  \n",
       "32460                    NaN                      NaN  "
      ]
     },
     "execution_count": 49,
     "metadata": {},
     "output_type": "execute_result"
    }
   ],
   "source": [
    "matrix[(matrix[\"date_block_num\"] == 0) & (matrix[\"item_id\"] == 19)].head()"
   ]
  },
  {
   "cell_type": "code",
   "execution_count": 50,
   "metadata": {
    "_uuid": "fc9166c4e678ebb99d03566f1751b7d4b5c690d2",
    "execution": {
     "iopub.execute_input": "2021-06-03T08:23:08.518178Z",
     "iopub.status.busy": "2021-06-03T08:23:08.517845Z",
     "iopub.status.idle": "2021-06-03T08:23:57.704847Z",
     "shell.execute_reply": "2021-06-03T08:23:57.704235Z",
     "shell.execute_reply.started": "2021-06-03T08:23:08.518118Z"
    },
    "hidden": true
   },
   "outputs": [
    {
     "data": {
      "text/plain": [
       "44.29976940155029"
      ]
     },
     "execution_count": 50,
     "metadata": {},
     "output_type": "execute_result"
    }
   ],
   "source": [
    "ts = time.time()\n",
    "group = matrix.groupby([\"date_block_num\", \"item_id\"]).agg({\"item_cnt_month\": [\"mean\"]})\n",
    "group.columns = [\"date_item_avg_item_cnt\"]\n",
    "group.reset_index(inplace=True)\n",
    "\n",
    "matrix = pd.merge(matrix, group, on=[\"date_block_num\", \"item_id\"], how=\"left\")\n",
    "matrix[\"date_item_avg_item_cnt\"] = matrix[\"date_item_avg_item_cnt\"].astype(np.float16)\n",
    "matrix = lag_feature(matrix, [1, 2, 3, 6, 12], \"date_item_avg_item_cnt\")\n",
    "matrix.drop([\"date_item_avg_item_cnt\"], axis=1, inplace=True)\n",
    "time.time() - ts"
   ]
  },
  {
   "cell_type": "code",
   "execution_count": 51,
   "metadata": {
    "_uuid": "73f2552c403c5f67bbf07f28d69efcc015d00f32",
    "execution": {
     "iopub.execute_input": "2021-06-03T08:31:00.279743Z",
     "iopub.status.busy": "2021-06-03T08:31:00.279241Z",
     "iopub.status.idle": "2021-06-03T08:31:51.452708Z",
     "shell.execute_reply": "2021-06-03T08:31:51.451913Z",
     "shell.execute_reply.started": "2021-06-03T08:31:00.27948Z"
    },
    "hidden": true
   },
   "outputs": [
    {
     "data": {
      "text/plain": [
       "47.92414116859436"
      ]
     },
     "execution_count": 51,
     "metadata": {},
     "output_type": "execute_result"
    }
   ],
   "source": [
    "ts = time.time()\n",
    "group = matrix.groupby([\"date_block_num\", \"shop_id\"]).agg({\"item_cnt_month\": [\"mean\"]})\n",
    "group.columns = [\"date_shop_avg_item_cnt\"]\n",
    "group.reset_index(inplace=True)\n",
    "\n",
    "matrix = pd.merge(matrix, group, on=[\"date_block_num\", \"shop_id\"], how=\"left\")\n",
    "matrix[\"date_shop_avg_item_cnt\"] = matrix[\"date_shop_avg_item_cnt\"].astype(np.float16)\n",
    "matrix = lag_feature(matrix, [1, 2, 3, 6, 12], \"date_shop_avg_item_cnt\")\n",
    "matrix.drop([\"date_shop_avg_item_cnt\"], axis=1, inplace=True)\n",
    "time.time() - ts"
   ]
  },
  {
   "cell_type": "code",
   "execution_count": 52,
   "metadata": {
    "_uuid": "c3948a9b206bc480b31385c29a713aa49747de19",
    "execution": {
     "iopub.execute_input": "2021-06-03T08:32:23.357349Z",
     "iopub.status.busy": "2021-06-03T08:32:23.356884Z",
     "iopub.status.idle": "2021-06-03T08:32:43.42015Z",
     "shell.execute_reply": "2021-06-03T08:32:43.419458Z",
     "shell.execute_reply.started": "2021-06-03T08:32:23.357171Z"
    },
    "hidden": true
   },
   "outputs": [
    {
     "data": {
      "text/plain": [
       "19.122037649154663"
      ]
     },
     "execution_count": 52,
     "metadata": {},
     "output_type": "execute_result"
    }
   ],
   "source": [
    "ts = time.time()\n",
    "group = matrix.groupby([\"date_block_num\", \"item_category_id\"]).agg(\n",
    "    {\"item_cnt_month\": [\"mean\"]}\n",
    ")\n",
    "group.columns = [\"date_cat_avg_item_cnt\"]\n",
    "group.reset_index(inplace=True)\n",
    "\n",
    "matrix = pd.merge(matrix, group, on=[\"date_block_num\", \"item_category_id\"], how=\"left\")\n",
    "matrix[\"date_cat_avg_item_cnt\"] = matrix[\"date_cat_avg_item_cnt\"].astype(np.float16)\n",
    "matrix = lag_feature(matrix, [1], \"date_cat_avg_item_cnt\")\n",
    "matrix.drop([\"date_cat_avg_item_cnt\"], axis=1, inplace=True)\n",
    "time.time() - ts"
   ]
  },
  {
   "cell_type": "code",
   "execution_count": 53,
   "metadata": {
    "_uuid": "bf98335755692f0d7666eeac2db1961692f09a16",
    "execution": {
     "iopub.execute_input": "2021-06-03T08:32:47.364417Z",
     "iopub.status.busy": "2021-06-03T08:32:47.363829Z",
     "iopub.status.idle": "2021-06-03T08:33:08.839902Z",
     "shell.execute_reply": "2021-06-03T08:33:08.83914Z",
     "shell.execute_reply.started": "2021-06-03T08:32:47.364346Z"
    },
    "hidden": true
   },
   "outputs": [
    {
     "data": {
      "text/plain": [
       "20.25902032852173"
      ]
     },
     "execution_count": 53,
     "metadata": {},
     "output_type": "execute_result"
    }
   ],
   "source": [
    "ts = time.time()\n",
    "group = matrix.groupby([\"date_block_num\", \"shop_id\", \"item_category_id\"]).agg(\n",
    "    {\"item_cnt_month\": [\"mean\"]}\n",
    ")\n",
    "group.columns = [\"date_shop_cat_avg_item_cnt\"]\n",
    "group.reset_index(inplace=True)\n",
    "\n",
    "matrix = pd.merge(\n",
    "    matrix, group, on=[\"date_block_num\", \"shop_id\", \"item_category_id\"], how=\"left\"\n",
    ")\n",
    "matrix[\"date_shop_cat_avg_item_cnt\"] = matrix[\"date_shop_cat_avg_item_cnt\"].astype(\n",
    "    np.float16\n",
    ")\n",
    "matrix = lag_feature(matrix, [1], \"date_shop_cat_avg_item_cnt\")\n",
    "matrix.drop([\"date_shop_cat_avg_item_cnt\"], axis=1, inplace=True)\n",
    "time.time() - ts"
   ]
  },
  {
   "cell_type": "code",
   "execution_count": 54,
   "metadata": {
    "_uuid": "3959603ea684eb3cbfd17d557399caa6e9da88e4",
    "execution": {
     "iopub.execute_input": "2021-06-03T08:33:34.271709Z",
     "iopub.status.busy": "2021-06-03T08:33:34.271418Z",
     "iopub.status.idle": "2021-06-03T08:33:56.119782Z",
     "shell.execute_reply": "2021-06-03T08:33:56.118868Z",
     "shell.execute_reply.started": "2021-06-03T08:33:34.271665Z"
    },
    "hidden": true
   },
   "outputs": [
    {
     "data": {
      "text/plain": [
       "20.699676036834717"
      ]
     },
     "execution_count": 54,
     "metadata": {},
     "output_type": "execute_result"
    }
   ],
   "source": [
    "ts = time.time()\n",
    "group = matrix.groupby([\"date_block_num\", \"shop_id\", \"type_code\"]).agg(\n",
    "    {\"item_cnt_month\": [\"mean\"]}\n",
    ")\n",
    "group.columns = [\"date_shop_type_avg_item_cnt\"]\n",
    "group.reset_index(inplace=True)\n",
    "\n",
    "matrix = pd.merge(\n",
    "    matrix, group, on=[\"date_block_num\", \"shop_id\", \"type_code\"], how=\"left\"\n",
    ")\n",
    "matrix[\"date_shop_type_avg_item_cnt\"] = matrix[\"date_shop_type_avg_item_cnt\"].astype(\n",
    "    np.float16\n",
    ")\n",
    "matrix = lag_feature(matrix, [1], \"date_shop_type_avg_item_cnt\")\n",
    "matrix.drop([\"date_shop_type_avg_item_cnt\"], axis=1, inplace=True)\n",
    "time.time() - ts"
   ]
  },
  {
   "cell_type": "code",
   "execution_count": 55,
   "metadata": {
    "_uuid": "39f66d2e30f691237aa5d41ff9fc3a0eb7e9a788",
    "execution": {
     "iopub.execute_input": "2021-06-03T08:33:59.692769Z",
     "iopub.status.busy": "2021-06-03T08:33:59.692462Z",
     "iopub.status.idle": "2021-06-03T08:34:22.146259Z",
     "shell.execute_reply": "2021-06-03T08:34:22.145512Z",
     "shell.execute_reply.started": "2021-06-03T08:33:59.692703Z"
    },
    "hidden": true
   },
   "outputs": [
    {
     "data": {
      "text/plain": [
       "21.249217748641968"
      ]
     },
     "execution_count": 55,
     "metadata": {},
     "output_type": "execute_result"
    }
   ],
   "source": [
    "ts = time.time()\n",
    "group = matrix.groupby([\"date_block_num\", \"shop_id\", \"subtype_code\"]).agg(\n",
    "    {\"item_cnt_month\": [\"mean\"]}\n",
    ")\n",
    "group.columns = [\"date_shop_subtype_avg_item_cnt\"]\n",
    "group.reset_index(inplace=True)\n",
    "\n",
    "matrix = pd.merge(\n",
    "    matrix, group, on=[\"date_block_num\", \"shop_id\", \"subtype_code\"], how=\"left\"\n",
    ")\n",
    "matrix[\"date_shop_subtype_avg_item_cnt\"] = matrix[\n",
    "    \"date_shop_subtype_avg_item_cnt\"\n",
    "].astype(np.float16)\n",
    "matrix = lag_feature(matrix, [1], \"date_shop_subtype_avg_item_cnt\")\n",
    "matrix.drop([\"date_shop_subtype_avg_item_cnt\"], axis=1, inplace=True)\n",
    "time.time() - ts"
   ]
  },
  {
   "cell_type": "code",
   "execution_count": 56,
   "metadata": {
    "_uuid": "87d57d01beb0830138dabae79b4022d4c6a9cc12",
    "execution": {
     "iopub.execute_input": "2021-06-03T08:34:23.433457Z",
     "iopub.status.busy": "2021-06-03T08:34:23.433081Z",
     "iopub.status.idle": "2021-06-03T08:34:45.983088Z",
     "shell.execute_reply": "2021-06-03T08:34:45.982225Z",
     "shell.execute_reply.started": "2021-06-03T08:34:23.433376Z"
    },
    "hidden": true
   },
   "outputs": [
    {
     "data": {
      "text/plain": [
       "21.200653553009033"
      ]
     },
     "execution_count": 56,
     "metadata": {},
     "output_type": "execute_result"
    }
   ],
   "source": [
    "ts = time.time()\n",
    "group = matrix.groupby([\"date_block_num\", \"city_code\"]).agg(\n",
    "    {\"item_cnt_month\": [\"mean\"]}\n",
    ")\n",
    "group.columns = [\"date_city_avg_item_cnt\"]\n",
    "group.reset_index(inplace=True)\n",
    "\n",
    "matrix = pd.merge(matrix, group, on=[\"date_block_num\", \"city_code\"], how=\"left\")\n",
    "matrix[\"date_city_avg_item_cnt\"] = matrix[\"date_city_avg_item_cnt\"].astype(np.float16)\n",
    "matrix = lag_feature(matrix, [1], \"date_city_avg_item_cnt\")\n",
    "matrix.drop([\"date_city_avg_item_cnt\"], axis=1, inplace=True)\n",
    "time.time() - ts"
   ]
  },
  {
   "cell_type": "code",
   "execution_count": 57,
   "metadata": {
    "_uuid": "db1f0170ec4a6fd9894bc53b36f3166d4b26abcf",
    "execution": {
     "iopub.execute_input": "2021-06-03T08:34:54.224963Z",
     "iopub.status.busy": "2021-06-03T08:34:54.224541Z",
     "iopub.status.idle": "2021-06-03T08:35:25.121947Z",
     "shell.execute_reply": "2021-06-03T08:35:25.12123Z",
     "shell.execute_reply.started": "2021-06-03T08:34:54.224788Z"
    },
    "hidden": true
   },
   "outputs": [
    {
     "data": {
      "text/plain": [
       "28.888110637664795"
      ]
     },
     "execution_count": 57,
     "metadata": {},
     "output_type": "execute_result"
    }
   ],
   "source": [
    "ts = time.time()\n",
    "group = matrix.groupby([\"date_block_num\", \"item_id\", \"city_code\"]).agg(\n",
    "    {\"item_cnt_month\": [\"mean\"]}\n",
    ")\n",
    "group.columns = [\"date_item_city_avg_item_cnt\"]\n",
    "group.reset_index(inplace=True)\n",
    "\n",
    "matrix = pd.merge(\n",
    "    matrix, group, on=[\"date_block_num\", \"item_id\", \"city_code\"], how=\"left\"\n",
    ")\n",
    "matrix[\"date_item_city_avg_item_cnt\"] = matrix[\"date_item_city_avg_item_cnt\"].astype(\n",
    "    np.float16\n",
    ")\n",
    "matrix = lag_feature(matrix, [1], \"date_item_city_avg_item_cnt\")\n",
    "matrix.drop([\"date_item_city_avg_item_cnt\"], axis=1, inplace=True)\n",
    "time.time() - ts"
   ]
  },
  {
   "cell_type": "code",
   "execution_count": 58,
   "metadata": {
    "_uuid": "3cd5232ad63357dacebe9d223cc93dd669132bb7",
    "execution": {
     "iopub.execute_input": "2021-06-03T08:36:51.606622Z",
     "iopub.status.busy": "2021-06-03T08:36:51.606296Z",
     "iopub.status.idle": "2021-06-03T08:37:14.969102Z",
     "shell.execute_reply": "2021-06-03T08:37:14.968258Z",
     "shell.execute_reply.started": "2021-06-03T08:36:51.606559Z"
    },
    "hidden": true
   },
   "outputs": [
    {
     "data": {
      "text/plain": [
       "22.33590817451477"
      ]
     },
     "execution_count": 58,
     "metadata": {},
     "output_type": "execute_result"
    }
   ],
   "source": [
    "ts = time.time()\n",
    "group = matrix.groupby([\"date_block_num\", \"type_code\"]).agg(\n",
    "    {\"item_cnt_month\": [\"mean\"]}\n",
    ")\n",
    "group.columns = [\"date_type_avg_item_cnt\"]\n",
    "group.reset_index(inplace=True)\n",
    "\n",
    "matrix = pd.merge(matrix, group, on=[\"date_block_num\", \"type_code\"], how=\"left\")\n",
    "matrix[\"date_type_avg_item_cnt\"] = matrix[\"date_type_avg_item_cnt\"].astype(np.float16)\n",
    "matrix = lag_feature(matrix, [1], \"date_type_avg_item_cnt\")\n",
    "matrix.drop([\"date_type_avg_item_cnt\"], axis=1, inplace=True)\n",
    "time.time() - ts"
   ]
  },
  {
   "cell_type": "code",
   "execution_count": 59,
   "metadata": {
    "_uuid": "00394f3694ae9c7093176eadac7abeaa79ff5467",
    "execution": {
     "iopub.execute_input": "2021-06-03T08:37:14.970352Z",
     "iopub.status.busy": "2021-06-03T08:37:14.969965Z",
     "iopub.status.idle": "2021-06-03T08:37:46.749073Z",
     "shell.execute_reply": "2021-06-03T08:37:46.748248Z",
     "shell.execute_reply.started": "2021-06-03T08:37:14.970279Z"
    },
    "hidden": true
   },
   "outputs": [
    {
     "data": {
      "text/plain": [
       "22.8194899559021"
      ]
     },
     "execution_count": 59,
     "metadata": {},
     "output_type": "execute_result"
    }
   ],
   "source": [
    "ts = time.time()\n",
    "group = matrix.groupby([\"date_block_num\", \"subtype_code\"]).agg(\n",
    "    {\"item_cnt_month\": [\"mean\"]}\n",
    ")\n",
    "group.columns = [\"date_subtype_avg_item_cnt\"]\n",
    "group.reset_index(inplace=True)\n",
    "\n",
    "matrix = pd.merge(matrix, group, on=[\"date_block_num\", \"subtype_code\"], how=\"left\")\n",
    "matrix[\"date_subtype_avg_item_cnt\"] = matrix[\"date_subtype_avg_item_cnt\"].astype(\n",
    "    np.float16\n",
    ")\n",
    "matrix = lag_feature(matrix, [1], \"date_subtype_avg_item_cnt\")\n",
    "matrix.drop([\"date_subtype_avg_item_cnt\"], axis=1, inplace=True)\n",
    "time.time() - ts"
   ]
  },
  {
   "cell_type": "markdown",
   "metadata": {
    "_uuid": "6bcea31d93ab035ca3fa1ed7c0afddbf602c414a",
    "hidden": true
   },
   "source": [
    "## Trend features"
   ]
  },
  {
   "cell_type": "markdown",
   "metadata": {
    "_uuid": "0504e9613087237c255914d9ebd165fac4e88cd0",
    "hidden": true
   },
   "source": [
    "Price trend for the last six months."
   ]
  },
  {
   "cell_type": "code",
   "execution_count": 60,
   "metadata": {
    "_uuid": "0da2ded8502e273137991fd2bebbadaf19c19622",
    "execution": {
     "iopub.execute_input": "2021-06-03T08:45:36.248351Z",
     "iopub.status.busy": "2021-06-03T08:45:36.248043Z",
     "iopub.status.idle": "2021-06-03T08:53:37.423192Z",
     "shell.execute_reply": "2021-06-03T08:53:37.422038Z",
     "shell.execute_reply.started": "2021-06-03T08:45:36.248315Z"
    },
    "hidden": true
   },
   "outputs": [
    {
     "data": {
      "text/plain": [
       "203.73753333091736"
      ]
     },
     "execution_count": 60,
     "metadata": {},
     "output_type": "execute_result"
    }
   ],
   "source": [
    "ts = time.time()\n",
    "group = train.groupby([\"item_id\"]).agg({\"item_price\": [\"mean\"]})\n",
    "group.columns = [\"item_avg_item_price\"]\n",
    "group.reset_index(inplace=True)\n",
    "\n",
    "matrix = pd.merge(matrix, group, on=[\"item_id\"], how=\"left\")\n",
    "matrix[\"item_avg_item_price\"] = matrix[\"item_avg_item_price\"].astype(np.float16)\n",
    "\n",
    "group = train.groupby([\"date_block_num\", \"item_id\"]).agg({\"item_price\": [\"mean\"]})\n",
    "group.columns = [\"date_item_avg_item_price\"]\n",
    "group.reset_index(inplace=True)\n",
    "\n",
    "matrix = pd.merge(matrix, group, on=[\"date_block_num\", \"item_id\"], how=\"left\")\n",
    "matrix[\"date_item_avg_item_price\"] = matrix[\"date_item_avg_item_price\"].astype(\n",
    "    np.float16\n",
    ")\n",
    "\n",
    "lags = [1, 2, 3, 4, 5, 6]\n",
    "matrix = lag_feature(matrix, lags, \"date_item_avg_item_price\")\n",
    "\n",
    "for i in lags:\n",
    "    matrix[\"delta_price_lag_\" + str(i)] = (\n",
    "        matrix[\"date_item_avg_item_price_lag_\" + str(i)] - matrix[\"item_avg_item_price\"]\n",
    "    ) / matrix[\"item_avg_item_price\"]\n",
    "\n",
    "\n",
    "def select_trend(row):\n",
    "    for i in lags:\n",
    "        if row[\"delta_price_lag_\" + str(i)]:\n",
    "            return row[\"delta_price_lag_\" + str(i)]\n",
    "    return 0\n",
    "\n",
    "\n",
    "matrix[\"delta_price_lag\"] = matrix.apply(select_trend, axis=1)\n",
    "matrix[\"delta_price_lag\"] = matrix[\"delta_price_lag\"].astype(np.float16)\n",
    "matrix[\"delta_price_lag\"].fillna(0, inplace=True)\n",
    "\n",
    "# https://stackoverflow.com/questions/31828240/first-non-null-value-per-row-from-a-list-of-pandas-columns/31828559\n",
    "# matrix['price_trend'] = matrix[['delta_price_lag_1','delta_price_lag_2','delta_price_lag_3']].bfill(axis=1).iloc[:, 0]\n",
    "# Invalid dtype for backfill_2d [float16]\n",
    "\n",
    "fetures_to_drop = [\"item_avg_item_price\", \"date_item_avg_item_price\"]\n",
    "for i in lags:\n",
    "    fetures_to_drop += [\"date_item_avg_item_price_lag_\" + str(i)]\n",
    "    fetures_to_drop += [\"delta_price_lag_\" + str(i)]\n",
    "\n",
    "matrix.drop(fetures_to_drop, axis=1, inplace=True)\n",
    "\n",
    "time.time() - ts"
   ]
  },
  {
   "cell_type": "markdown",
   "metadata": {
    "_uuid": "17765ddb48f52abd88847a42c0a3ffe974e5b121",
    "hidden": true
   },
   "source": [
    "Last month shop revenue trend"
   ]
  },
  {
   "cell_type": "code",
   "execution_count": 61,
   "metadata": {
    "_uuid": "e633be47f1a22b41487866ce67fb874bd296339e",
    "execution": {
     "iopub.execute_input": "2021-06-03T08:58:08.687744Z",
     "iopub.status.busy": "2021-06-03T08:58:08.687404Z",
     "iopub.status.idle": "2021-06-03T08:58:39.131957Z",
     "shell.execute_reply": "2021-06-03T08:58:39.131197Z",
     "shell.execute_reply.started": "2021-06-03T08:58:08.687686Z"
    },
    "hidden": true
   },
   "outputs": [
    {
     "data": {
      "text/plain": [
       "28.11066961288452"
      ]
     },
     "execution_count": 61,
     "metadata": {},
     "output_type": "execute_result"
    }
   ],
   "source": [
    "ts = time.time()\n",
    "group = train.groupby([\"date_block_num\", \"shop_id\"]).agg({\"revenue\": [\"sum\"]})\n",
    "group.columns = [\"date_shop_revenue\"]\n",
    "group.reset_index(inplace=True)\n",
    "\n",
    "matrix = pd.merge(matrix, group, on=[\"date_block_num\", \"shop_id\"], how=\"left\")\n",
    "matrix[\"date_shop_revenue\"] = matrix[\"date_shop_revenue\"].astype(np.float32)\n",
    "\n",
    "group = group.groupby([\"shop_id\"]).agg({\"date_shop_revenue\": [\"mean\"]})\n",
    "group.columns = [\"shop_avg_revenue\"]\n",
    "group.reset_index(inplace=True)\n",
    "\n",
    "matrix = pd.merge(matrix, group, on=[\"shop_id\"], how=\"left\")\n",
    "matrix[\"shop_avg_revenue\"] = matrix[\"shop_avg_revenue\"].astype(np.float32)\n",
    "\n",
    "matrix[\"delta_revenue\"] = (\n",
    "    matrix[\"date_shop_revenue\"] - matrix[\"shop_avg_revenue\"]\n",
    ") / matrix[\"shop_avg_revenue\"]\n",
    "matrix[\"delta_revenue\"] = matrix[\"delta_revenue\"].astype(np.float16)\n",
    "\n",
    "matrix = lag_feature(matrix, [1], \"delta_revenue\")\n",
    "\n",
    "matrix.drop(\n",
    "    [\"date_shop_revenue\", \"shop_avg_revenue\", \"delta_revenue\"], axis=1, inplace=True\n",
    ")\n",
    "time.time() - ts"
   ]
  },
  {
   "cell_type": "markdown",
   "metadata": {
    "_uuid": "47e06af411b7d26cd93dad3d6735e48e5fbdee50",
    "hidden": true
   },
   "source": [
    "## Special features"
   ]
  },
  {
   "cell_type": "code",
   "execution_count": 62,
   "metadata": {
    "_uuid": "bb521e1f33d4124a3b90b47447bdb29150770b6e",
    "execution": {
     "iopub.execute_input": "2021-06-03T08:59:18.173704Z",
     "iopub.status.busy": "2021-06-03T08:59:18.173337Z",
     "iopub.status.idle": "2021-06-03T08:59:18.2261Z",
     "shell.execute_reply": "2021-06-03T08:59:18.225247Z",
     "shell.execute_reply.started": "2021-06-03T08:59:18.173636Z"
    },
    "hidden": true
   },
   "outputs": [],
   "source": [
    "matrix[\"month\"] = matrix[\"date_block_num\"] % 12"
   ]
  },
  {
   "cell_type": "markdown",
   "metadata": {
    "_uuid": "b4dc4d2ff86483989c4b74fc02a0d01ca68a5c75",
    "hidden": true
   },
   "source": [
    "Number of days in a month. There are no leap years."
   ]
  },
  {
   "cell_type": "code",
   "execution_count": 63,
   "metadata": {
    "_uuid": "e23f0201056b73368e3b70d4c36c6bb9e4a55291",
    "execution": {
     "iopub.execute_input": "2021-06-03T08:59:56.22331Z",
     "iopub.status.busy": "2021-06-03T08:59:56.222983Z",
     "iopub.status.idle": "2021-06-03T08:59:56.400541Z",
     "shell.execute_reply": "2021-06-03T08:59:56.399643Z",
     "shell.execute_reply.started": "2021-06-03T08:59:56.223264Z"
    },
    "hidden": true
   },
   "outputs": [],
   "source": [
    "days = pd.Series([31, 28, 31, 30, 31, 30, 31, 31, 30, 31, 30, 31])\n",
    "matrix[\"days\"] = matrix[\"month\"].map(days).astype(np.int8)"
   ]
  },
  {
   "cell_type": "markdown",
   "metadata": {
    "_uuid": "7c096e86eb0043c0f6eeb899de24e28ca4c4e044",
    "hidden": true
   },
   "source": [
    "Months since the last sale for each shop/item pair and for item only. I use programing approach.\n",
    "\n",
    "<i>Create HashTable with key equals to {shop_id,item_id} and value equals to date_block_num. Iterate data from the top. Foreach row if {row.shop_id,row.item_id} is not present in the table, then add it to the table and set its value to row.date_block_num. if HashTable contains key, then calculate the difference beteween cached value and row.date_block_num.</i>"
   ]
  },
  {
   "cell_type": "code",
   "execution_count": 64,
   "metadata": {
    "_uuid": "3458a7056c963167760921417d1f863f074f2b39",
    "execution": {
     "iopub.execute_input": "2021-06-03T09:02:52.094083Z",
     "iopub.status.busy": "2021-06-03T09:02:52.093727Z",
     "iopub.status.idle": "2021-06-03T09:23:49.502245Z",
     "shell.execute_reply": "2021-06-03T09:23:49.501334Z",
     "shell.execute_reply.started": "2021-06-03T09:02:52.094007Z"
    },
    "hidden": true
   },
   "outputs": [
    {
     "data": {
      "text/plain": [
       "931.0918853282928"
      ]
     },
     "execution_count": 64,
     "metadata": {},
     "output_type": "execute_result"
    }
   ],
   "source": [
    "ts = time.time()\n",
    "cache = {}\n",
    "matrix[\"item_shop_last_sale\"] = -1\n",
    "matrix[\"item_shop_last_sale\"] = matrix[\"item_shop_last_sale\"].astype(np.int8)\n",
    "for idx, row in matrix.iterrows():\n",
    "    key = str(row.item_id) + \" \" + str(row.shop_id)\n",
    "    if key not in cache:\n",
    "        if row.item_cnt_month != 0:\n",
    "            cache[key] = row.date_block_num\n",
    "    else:\n",
    "        last_date_block_num = cache[key]\n",
    "        matrix.at[idx, \"item_shop_last_sale\"] = row.date_block_num - last_date_block_num\n",
    "        cache[key] = row.date_block_num\n",
    "time.time() - ts"
   ]
  },
  {
   "cell_type": "code",
   "execution_count": 65,
   "metadata": {
    "_uuid": "28b29fae3906d870b4dc3064a7f359b6d3abf623",
    "execution": {
     "iopub.execute_input": "2021-06-03T09:23:49.504355Z",
     "iopub.status.busy": "2021-06-03T09:23:49.50384Z",
     "iopub.status.idle": "2021-06-03T09:36:04.973476Z",
     "shell.execute_reply": "2021-06-03T09:36:04.972708Z",
     "shell.execute_reply.started": "2021-06-03T09:23:49.504277Z"
    },
    "hidden": true
   },
   "outputs": [
    {
     "data": {
      "text/plain": [
       "645.7492654323578"
      ]
     },
     "execution_count": 65,
     "metadata": {},
     "output_type": "execute_result"
    }
   ],
   "source": [
    "ts = time.time()\n",
    "cache = {}\n",
    "matrix[\"item_last_sale\"] = -1\n",
    "matrix[\"item_last_sale\"] = matrix[\"item_last_sale\"].astype(np.int8)\n",
    "for idx, row in matrix.iterrows():\n",
    "    key = row.item_id\n",
    "    if key not in cache:\n",
    "        if row.item_cnt_month != 0:\n",
    "            cache[key] = row.date_block_num\n",
    "    else:\n",
    "        last_date_block_num = cache[key]\n",
    "        if row.date_block_num > last_date_block_num:\n",
    "            matrix.at[idx, \"item_last_sale\"] = row.date_block_num - last_date_block_num\n",
    "            cache[key] = row.date_block_num\n",
    "time.time() - ts"
   ]
  },
  {
   "cell_type": "markdown",
   "metadata": {
    "_uuid": "61987e6adc1bec2ea897eec837c0253f7f73fdb5",
    "hidden": true
   },
   "source": [
    "Months since the first sale for each shop/item pair and for item only."
   ]
  },
  {
   "cell_type": "code",
   "execution_count": 66,
   "metadata": {
    "_uuid": "ad0869709bbada35726d5ca41dd913d817249f8e",
    "execution": {
     "iopub.execute_input": "2021-06-03T09:36:04.975374Z",
     "iopub.status.busy": "2021-06-03T09:36:04.975076Z",
     "iopub.status.idle": "2021-06-03T09:36:08.222603Z",
     "shell.execute_reply": "2021-06-03T09:36:08.221684Z",
     "shell.execute_reply.started": "2021-06-03T09:36:04.97532Z"
    },
    "hidden": true
   },
   "outputs": [
    {
     "data": {
      "text/plain": [
       "1.9596211910247803"
      ]
     },
     "execution_count": 66,
     "metadata": {},
     "output_type": "execute_result"
    }
   ],
   "source": [
    "ts = time.time()\n",
    "matrix[\"item_shop_first_sale\"] = matrix[\"date_block_num\"] - matrix.groupby(\n",
    "    [\"item_id\", \"shop_id\"]\n",
    ")[\"date_block_num\"].transform(\"min\")\n",
    "matrix[\"item_first_sale\"] = matrix[\"date_block_num\"] - matrix.groupby(\"item_id\")[\n",
    "    \"date_block_num\"\n",
    "].transform(\"min\")\n",
    "time.time() - ts"
   ]
  },
  {
   "cell_type": "markdown",
   "metadata": {
    "_uuid": "966cb34ccfe849fbb3707d93270691cb8eef7a89",
    "hidden": true
   },
   "source": [
    "## Final preparations\n",
    "Because of the using 12 as lag value drop first 12 months. Also drop all the columns with this month calculated values (other words which can not be calcucated for the test set)."
   ]
  },
  {
   "cell_type": "code",
   "execution_count": 67,
   "metadata": {
    "_uuid": "04df1bc4240f409a5d4521c6f70c2ced44f7c3d4",
    "execution": {
     "iopub.execute_input": "2021-06-03T09:37:33.379773Z",
     "iopub.status.busy": "2021-06-03T09:37:33.37945Z",
     "iopub.status.idle": "2021-06-03T09:37:35.09746Z",
     "shell.execute_reply": "2021-06-03T09:37:35.096566Z",
     "shell.execute_reply.started": "2021-06-03T09:37:33.379727Z"
    },
    "hidden": true
   },
   "outputs": [
    {
     "data": {
      "text/plain": [
       "1.923447847366333"
      ]
     },
     "execution_count": 67,
     "metadata": {},
     "output_type": "execute_result"
    }
   ],
   "source": [
    "ts = time.time()\n",
    "matrix = matrix[matrix.date_block_num > 11]\n",
    "time.time() - ts"
   ]
  },
  {
   "cell_type": "markdown",
   "metadata": {
    "_uuid": "48a14784050901f878b40f093e4bc34e07ecce05",
    "hidden": true
   },
   "source": [
    "Producing lags brings a lot of nulls."
   ]
  },
  {
   "cell_type": "code",
   "execution_count": 68,
   "metadata": {
    "_uuid": "8e5d8cb5cea9be28af4a0486cc1bf797e5b5c7ee",
    "execution": {
     "iopub.execute_input": "2021-06-03T09:39:21.321143Z",
     "iopub.status.busy": "2021-06-03T09:39:21.320696Z",
     "iopub.status.idle": "2021-06-03T09:39:29.712048Z",
     "shell.execute_reply": "2021-06-03T09:39:29.71132Z",
     "shell.execute_reply.started": "2021-06-03T09:39:21.321001Z"
    },
    "hidden": true
   },
   "outputs": [
    {
     "data": {
      "text/plain": [
       "1.6430530548095703"
      ]
     },
     "execution_count": 68,
     "metadata": {},
     "output_type": "execute_result"
    }
   ],
   "source": [
    "ts = time.time()\n",
    "\n",
    "\n",
    "def fill_na(df):\n",
    "    for col in df.columns:\n",
    "        if (\"_lag_\" in col) & (df[col].isnull().any()):\n",
    "            if \"item_cnt\" in col:\n",
    "                df[col].fillna(0, inplace=True)\n",
    "    return df\n",
    "\n",
    "\n",
    "matrix = fill_na(matrix)\n",
    "time.time() - ts"
   ]
  },
  {
   "cell_type": "code",
   "execution_count": 69,
   "metadata": {
    "_uuid": "00bf3fffc1b143d0555d03b9d79b5fd00d9d0dc9",
    "execution": {
     "iopub.execute_input": "2021-06-03T09:39:33.249456Z",
     "iopub.status.busy": "2021-06-03T09:39:33.249148Z",
     "iopub.status.idle": "2021-06-03T09:39:33.255774Z",
     "shell.execute_reply": "2021-06-03T09:39:33.254894Z",
     "shell.execute_reply.started": "2021-06-03T09:39:33.249407Z"
    },
    "hidden": true
   },
   "outputs": [
    {
     "data": {
      "text/plain": [
       "Index(['date_block_num', 'shop_id', 'item_id', 'item_cnt_month', 'city_code',\n",
       "       'item_category_id', 'type_code', 'subtype_code', 'item_cnt_month_lag_1',\n",
       "       'item_cnt_month_lag_2', 'item_cnt_month_lag_3', 'item_cnt_month_lag_6',\n",
       "       'item_cnt_month_lag_12', 'date_avg_item_cnt_lag_1',\n",
       "       'date_item_avg_item_cnt_lag_1', 'date_item_avg_item_cnt_lag_2',\n",
       "       'date_item_avg_item_cnt_lag_3', 'date_item_avg_item_cnt_lag_6',\n",
       "       'date_item_avg_item_cnt_lag_12', 'date_shop_avg_item_cnt_lag_1',\n",
       "       'date_shop_avg_item_cnt_lag_2', 'date_shop_avg_item_cnt_lag_3',\n",
       "       'date_shop_avg_item_cnt_lag_6', 'date_shop_avg_item_cnt_lag_12',\n",
       "       'date_cat_avg_item_cnt_lag_1', 'date_shop_cat_avg_item_cnt_lag_1',\n",
       "       'date_shop_type_avg_item_cnt_lag_1',\n",
       "       'date_shop_subtype_avg_item_cnt_lag_1', 'date_city_avg_item_cnt_lag_1',\n",
       "       'date_item_city_avg_item_cnt_lag_1', 'date_type_avg_item_cnt_lag_1',\n",
       "       'date_subtype_avg_item_cnt_lag_1', 'delta_price_lag',\n",
       "       'delta_revenue_lag_1', 'month', 'days', 'item_shop_last_sale',\n",
       "       'item_last_sale', 'item_shop_first_sale', 'item_first_sale'],\n",
       "      dtype='object')"
      ]
     },
     "execution_count": 69,
     "metadata": {},
     "output_type": "execute_result"
    }
   ],
   "source": [
    "matrix.columns"
   ]
  },
  {
   "cell_type": "code",
   "execution_count": 70,
   "metadata": {
    "_uuid": "5f4e4c5c552daf8d4da6999ae4b63f13459b2887",
    "execution": {
     "iopub.execute_input": "2021-06-03T09:39:38.072714Z",
     "iopub.status.busy": "2021-06-03T09:39:38.072377Z",
     "iopub.status.idle": "2021-06-03T09:39:38.08199Z",
     "shell.execute_reply": "2021-06-03T09:39:38.08101Z",
     "shell.execute_reply.started": "2021-06-03T09:39:38.072673Z"
    },
    "hidden": true
   },
   "outputs": [
    {
     "name": "stdout",
     "output_type": "stream",
     "text": [
      "<class 'pandas.core.frame.DataFrame'>\n",
      "Int64Index: 6639294 entries, 4488710 to 11128003\n",
      "Data columns (total 40 columns):\n",
      " #   Column                                Dtype  \n",
      "---  ------                                -----  \n",
      " 0   date_block_num                        int8   \n",
      " 1   shop_id                               int8   \n",
      " 2   item_id                               int16  \n",
      " 3   item_cnt_month                        float16\n",
      " 4   city_code                             int8   \n",
      " 5   item_category_id                      int8   \n",
      " 6   type_code                             int8   \n",
      " 7   subtype_code                          int8   \n",
      " 8   item_cnt_month_lag_1                  float16\n",
      " 9   item_cnt_month_lag_2                  float16\n",
      " 10  item_cnt_month_lag_3                  float16\n",
      " 11  item_cnt_month_lag_6                  float16\n",
      " 12  item_cnt_month_lag_12                 float16\n",
      " 13  date_avg_item_cnt_lag_1               float16\n",
      " 14  date_item_avg_item_cnt_lag_1          float16\n",
      " 15  date_item_avg_item_cnt_lag_2          float16\n",
      " 16  date_item_avg_item_cnt_lag_3          float16\n",
      " 17  date_item_avg_item_cnt_lag_6          float16\n",
      " 18  date_item_avg_item_cnt_lag_12         float16\n",
      " 19  date_shop_avg_item_cnt_lag_1          float16\n",
      " 20  date_shop_avg_item_cnt_lag_2          float16\n",
      " 21  date_shop_avg_item_cnt_lag_3          float16\n",
      " 22  date_shop_avg_item_cnt_lag_6          float16\n",
      " 23  date_shop_avg_item_cnt_lag_12         float16\n",
      " 24  date_cat_avg_item_cnt_lag_1           float16\n",
      " 25  date_shop_cat_avg_item_cnt_lag_1      float16\n",
      " 26  date_shop_type_avg_item_cnt_lag_1     float16\n",
      " 27  date_shop_subtype_avg_item_cnt_lag_1  float16\n",
      " 28  date_city_avg_item_cnt_lag_1          float16\n",
      " 29  date_item_city_avg_item_cnt_lag_1     float16\n",
      " 30  date_type_avg_item_cnt_lag_1          float16\n",
      " 31  date_subtype_avg_item_cnt_lag_1       float16\n",
      " 32  delta_price_lag                       float16\n",
      " 33  delta_revenue_lag_1                   float16\n",
      " 34  month                                 int8   \n",
      " 35  days                                  int8   \n",
      " 36  item_shop_last_sale                   int8   \n",
      " 37  item_last_sale                        int8   \n",
      " 38  item_shop_first_sale                  int8   \n",
      " 39  item_first_sale                       int8   \n",
      "dtypes: float16(27), int16(1), int8(12)\n",
      "memory usage: 481.2 MB\n"
     ]
    }
   ],
   "source": [
    "matrix.info()"
   ]
  },
  {
   "cell_type": "code",
   "execution_count": 71,
   "metadata": {
    "_uuid": "5d9988f8da8876f74092fbf827ceb6c61dd09d5e",
    "execution": {
     "iopub.execute_input": "2021-06-03T09:39:48.347247Z",
     "iopub.status.busy": "2021-06-03T09:39:48.346901Z",
     "iopub.status.idle": "2021-06-03T09:39:50.22762Z",
     "shell.execute_reply": "2021-06-03T09:39:50.226597Z",
     "shell.execute_reply.started": "2021-06-03T09:39:48.347163Z"
    },
    "hidden": true
   },
   "outputs": [],
   "source": [
    "matrix.to_pickle(\"data.pkl\")\n",
    "del matrix\n",
    "del cache\n",
    "del group\n",
    "del items\n",
    "del shops\n",
    "del cats\n",
    "del train\n",
    "# leave test for submission\n",
    "gc.collect()"
   ]
  },
  {
   "cell_type": "markdown",
   "metadata": {
    "_uuid": "b69932efb440af8f6435f3cd802fbcd15682af71"
   },
   "source": [
    "# Part 2, xgboost"
   ]
  },
  {
   "cell_type": "code",
   "execution_count": 3,
   "metadata": {
    "_uuid": "a54364495b1818e9f069efa0c53500bf9e21d5f9",
    "execution": {
     "iopub.execute_input": "2021-06-03T09:41:36.872597Z",
     "iopub.status.busy": "2021-06-03T09:41:36.872282Z",
     "iopub.status.idle": "2021-06-03T09:41:38.369252Z",
     "shell.execute_reply": "2021-06-03T09:41:38.368585Z",
     "shell.execute_reply.started": "2021-06-03T09:41:36.872549Z"
    }
   },
   "outputs": [],
   "source": [
    "data = pd.read_pickle(\"./data.pkl\")"
   ]
  },
  {
   "cell_type": "markdown",
   "metadata": {
    "_uuid": "e5742775554b9e48e4d5c19784184069ad3eb9fb"
   },
   "source": [
    "Select perfect features"
   ]
  },
  {
   "cell_type": "code",
   "execution_count": 4,
   "metadata": {
    "_uuid": "bfc928a916bb8b285b2fe90fb1a311cf2fbbf2e3",
    "execution": {
     "iopub.execute_input": "2021-06-03T09:41:44.221411Z",
     "iopub.status.busy": "2021-06-03T09:41:44.220905Z",
     "iopub.status.idle": "2021-06-03T09:41:45.457504Z",
     "shell.execute_reply": "2021-06-03T09:41:45.456435Z",
     "shell.execute_reply.started": "2021-06-03T09:41:44.221362Z"
    }
   },
   "outputs": [],
   "source": [
    "data = data[\n",
    "    [\n",
    "        \"date_block_num\",\n",
    "        \"shop_id\",\n",
    "        \"item_id\",\n",
    "        \"item_cnt_month\",\n",
    "        \"city_code\",\n",
    "        \"item_category_id\",\n",
    "        \"type_code\",\n",
    "        \"subtype_code\",\n",
    "        \"item_cnt_month_lag_1\",\n",
    "        \"item_cnt_month_lag_2\",\n",
    "        \"item_cnt_month_lag_3\",\n",
    "        \"item_cnt_month_lag_6\",\n",
    "        \"item_cnt_month_lag_12\",\n",
    "        \"date_avg_item_cnt_lag_1\",\n",
    "        \"date_item_avg_item_cnt_lag_1\",\n",
    "        \"date_item_avg_item_cnt_lag_2\",\n",
    "        \"date_item_avg_item_cnt_lag_3\",\n",
    "        \"date_item_avg_item_cnt_lag_6\",\n",
    "        \"date_item_avg_item_cnt_lag_12\",\n",
    "        \"date_shop_avg_item_cnt_lag_1\",\n",
    "        \"date_shop_avg_item_cnt_lag_2\",\n",
    "        \"date_shop_avg_item_cnt_lag_3\",\n",
    "        \"date_shop_avg_item_cnt_lag_6\",\n",
    "        \"date_shop_avg_item_cnt_lag_12\",\n",
    "        \"date_cat_avg_item_cnt_lag_1\",\n",
    "        \"date_shop_cat_avg_item_cnt_lag_1\",\n",
    "        #'date_shop_type_avg_item_cnt_lag_1',\n",
    "        #'date_shop_subtype_avg_item_cnt_lag_1',\n",
    "        \"date_city_avg_item_cnt_lag_1\",\n",
    "        \"date_item_city_avg_item_cnt_lag_1\",\n",
    "        #'date_type_avg_item_cnt_lag_1',\n",
    "        #'date_subtype_avg_item_cnt_lag_1',\n",
    "        \"delta_price_lag\",\n",
    "        \"month\",\n",
    "        \"days\",\n",
    "        \"item_shop_last_sale\",\n",
    "        \"item_last_sale\",\n",
    "        \"item_shop_first_sale\",\n",
    "        \"item_first_sale\",\n",
    "    ]\n",
    "]"
   ]
  },
  {
   "cell_type": "markdown",
   "metadata": {
    "_uuid": "11eb4f2f5ada18aa8993ec55e8c63e80758fc19e"
   },
   "source": [
    "Validation strategy is 34 month for the test set, 33 month for the validation set and 13-33 months for the train."
   ]
  },
  {
   "cell_type": "code",
   "execution_count": 4,
   "metadata": {},
   "outputs": [],
   "source": [
    "X_train = data[data.date_block_num < 33].drop([\"item_cnt_month\"], axis=1)\n",
    "Y_train = data[data.date_block_num < 33][\"item_cnt_month\"]\n",
    "X_valid = data[data.date_block_num == 33].drop([\"item_cnt_month\"], axis=1)\n",
    "Y_valid = data[data.date_block_num == 33][\"item_cnt_month\"]\n",
    "X_test = data[data.date_block_num == 34].drop([\"item_cnt_month\"], axis=1)"
   ]
  },
  {
   "cell_type": "code",
   "execution_count": 5,
   "metadata": {
    "_uuid": "6ea5437e8949db6d3e54e68b7b0c18cd0befe38c",
    "execution": {
     "iopub.execute_input": "2021-06-03T09:42:46.280418Z",
     "iopub.status.busy": "2021-06-03T09:42:46.279833Z",
     "iopub.status.idle": "2021-06-03T09:42:46.419108Z",
     "shell.execute_reply": "2021-06-03T09:42:46.418323Z",
     "shell.execute_reply.started": "2021-06-03T09:42:46.280341Z"
    }
   },
   "outputs": [
    {
     "data": {
      "text/plain": [
       "24"
      ]
     },
     "execution_count": 5,
     "metadata": {},
     "output_type": "execute_result"
    }
   ],
   "source": [
    "del data\n",
    "gc.collect()"
   ]
  },
  {
   "cell_type": "code",
   "execution_count": 7,
   "metadata": {
    "_uuid": "acef75c36501f808d45f81fc69f9708fc3283bc3",
    "execution": {
     "iopub.execute_input": "2021-06-03T09:43:13.891690Z",
     "iopub.status.busy": "2021-06-03T09:43:13.891381Z"
    }
   },
   "outputs": [
    {
     "name": "stdout",
     "output_type": "stream",
     "text": [
      "[0]\tvalidation_0-rmse:1.05493\tvalidation_1-rmse:1.04406\n",
      "[1]\tvalidation_0-rmse:0.96403\tvalidation_1-rmse:0.97753\n",
      "[2]\tvalidation_0-rmse:0.91309\tvalidation_1-rmse:0.94538\n",
      "[3]\tvalidation_0-rmse:0.88422\tvalidation_1-rmse:0.93092\n",
      "[4]\tvalidation_0-rmse:0.86487\tvalidation_1-rmse:0.92183\n",
      "[5]\tvalidation_0-rmse:0.85367\tvalidation_1-rmse:0.91748\n",
      "[6]\tvalidation_0-rmse:0.84458\tvalidation_1-rmse:0.91214\n",
      "[7]\tvalidation_0-rmse:0.83722\tvalidation_1-rmse:0.91454\n",
      "[8]\tvalidation_0-rmse:0.83190\tvalidation_1-rmse:0.91463\n",
      "[9]\tvalidation_0-rmse:0.82815\tvalidation_1-rmse:0.91374\n",
      "[10]\tvalidation_0-rmse:0.82492\tvalidation_1-rmse:0.91352\n",
      "[11]\tvalidation_0-rmse:0.82320\tvalidation_1-rmse:0.91515\n",
      "[12]\tvalidation_0-rmse:0.82130\tvalidation_1-rmse:0.91479\n",
      "[13]\tvalidation_0-rmse:0.81867\tvalidation_1-rmse:0.91539\n",
      "[14]\tvalidation_0-rmse:0.81696\tvalidation_1-rmse:0.91649\n",
      "[15]\tvalidation_0-rmse:0.81563\tvalidation_1-rmse:0.91500\n"
     ]
    },
    {
     "data": {
      "text/plain": [
       "115.20802164077759"
      ]
     },
     "execution_count": 7,
     "metadata": {},
     "output_type": "execute_result"
    }
   ],
   "source": [
    "ts = time.time()\n",
    "\n",
    "model = XGBRegressor(\n",
    "    max_depth=8,\n",
    "    n_estimators=1000,\n",
    "    min_child_weight=300,\n",
    "    colsample_bytree=0.8,\n",
    "    subsample=0.8,\n",
    "    eta=0.3,\n",
    "    seed=42,\n",
    ")\n",
    "\n",
    "model.fit(\n",
    "    X_train,\n",
    "    Y_train,\n",
    "    eval_metric=\"rmse\",\n",
    "    eval_set=[(X_train, Y_train), (X_valid, Y_valid)],\n",
    "    verbose=True,\n",
    "    early_stopping_rounds=10,\n",
    ")\n",
    "\n",
    "time.time() - ts"
   ]
  },
  {
   "cell_type": "code",
   "execution_count": 10,
   "metadata": {
    "_uuid": "8ff5a80a22d046c5ca1cb27e938c757b607551d2"
   },
   "outputs": [],
   "source": [
    "Y_pred = model.predict(X_valid).clip(0, 20)\n",
    "Y_test = model.predict(X_test).clip(0, 20)\n",
    "\n",
    "submission = pd.DataFrame({\"ID\": test.index, \"item_cnt_month\": Y_test})\n",
    "submission.to_csv(\"xgb_submission.csv\", index=False)\n",
    "\n",
    "# save predictions for an ensemble\n",
    "# pickle.dump(Y_pred, open(\"xgb_train.pickle\", \"wb\"))\n",
    "# pickle.dump(Y_test, open(\"xgb_test.pickle\", \"wb\"))"
   ]
  },
  {
   "cell_type": "code",
   "execution_count": 8,
   "metadata": {
    "_uuid": "c8adc7c93323eb77baeceb2e8db17390b5c4deb3"
   },
   "outputs": [
    {
     "data": {
      "image/png": "[encoded data removed]",
      "text/plain": [
       "<Figure size 720x1008 with 1 Axes>"
      ]
     },
     "metadata": {
      "needs_background": "light"
     },
     "output_type": "display_data"
    }
   ],
   "source": [
    "plot_features(model, (10, 14))\n",
    "plt.show()"
   ]
  },
  {
   "cell_type": "code",
   "execution_count": null,
   "metadata": {},
   "outputs": [],
   "source": []
  }
 ],
 "metadata": {
  "kernelspec": {
   "display_name": "py38",
   "language": "python",
   "name": "py38"
  },
  "language_info": {
   "codemirror_mode": {
    "name": "ipython",
    "version": 3
   },
   "file_extension": ".py",
   "mimetype": "text/x-python",
   "name": "python",
   "nbconvert_exporter": "python",
   "pygments_lexer": "ipython3",
   "version": "3.8.0"
  },
  "toc": {
   "base_numbering": 1,
   "nav_menu": {
    "height": "271px",
    "width": "254px"
   },
   "number_sections": true,
   "sideBar": true,
   "skip_h1_title": false,
   "title_cell": "Table of Contents",
   "title_sidebar": "Contents",
   "toc_cell": false,
   "toc_position": {},
   "toc_section_display": true,
   "toc_window_display": false
  }
 },
 "nbformat": 4,
 "nbformat_minor": 4
}
